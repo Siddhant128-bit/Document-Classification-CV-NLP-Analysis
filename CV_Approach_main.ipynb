{
 "cells": [
  {
   "attachments": {},
   "cell_type": "markdown",
   "metadata": {},
   "source": [
    "<h1 align='center'> Glean CV Approach </h1>\n",
    "We are going to see how we can try Computer Vision Approach to Classify various vendors. The idea is to use EfficientNetB0 to train on the images of first pages of all pdf documents."
   ]
  },
  {
   "cell_type": "code",
   "execution_count": 1,
   "metadata": {},
   "outputs": [],
   "source": [
    "from utilities import *\n",
    "from PIL import Image\n",
    "import tensorflow as tf\n",
    "from keras.applications.efficientnet import EfficientNetB0\n",
    "from sklearn.model_selection import train_test_split\n",
    "from sklearn.utils.class_weight import compute_class_weight\n",
    "from sklearn.metrics import classification_report\n",
    "import pprint\n"
   ]
  },
  {
   "attachments": {},
   "cell_type": "markdown",
   "metadata": {},
   "source": [
    "<h3> Getting Dataset </h3>\n",
    "\n",
    "Initially our files are present as pdf we are going to conver them into images. We are taking the  first page of each pdf file and using it to get the image from that page and going to train only on those  "
   ]
  },
  {
   "cell_type": "code",
   "execution_count": 2,
   "metadata": {},
   "outputs": [
    {
     "name": "stdout",
     "output_type": "stream",
     "text": [
      "Here are vendors: ['../Dataset/ADP_LLC', '../Dataset/Align_Technology_Inc', '../Dataset/ALLIANCE_VANTAGE_LIMITED', '../Dataset/Amazon_Business', '../Dataset/Apple_Inc (invoices)', '../Dataset/apple_search_ads', '../Dataset/Atlassian', '../Dataset/Avenue_Logistics', '../Dataset/Aws', '../Dataset/AXLE_LOGISTICS', '../Dataset/Bacon_Work', '../Dataset/CDW_Direct', '../Dataset/CLEARFREIGHT_INC', '../Dataset/Cooley_LLP', '../Dataset/CSC', '../Dataset/Datadog', '../Dataset/DHL_eCommerce', '../Dataset/Electric_Al_Inc', '../Dataset/Employee_Benefits_Corporation', '../Dataset/Equifax_Information_SVCS_LLC', '../Dataset/esendex', '../Dataset/Facebook_Inc', '../Dataset/FedEx', '../Dataset/Freshworks_Inc_', '../Dataset/Github', '../Dataset/Glean_Analytics_Inc', '../Dataset/Goodwin_Procter_LLP', '../Dataset/google_llc', '../Dataset/Gowling_WLG_(Canada)_LLP', '../Dataset/Hubspot', '../Dataset/Lindenmeyr_Munroe', '../Dataset/LinkedIn_Corporation', '../Dataset/MainStreet_Work_Inc', '../Dataset/Maples_and_Calder_LLP', '../Dataset/Marcum_LLP', '../Dataset/Medline', '../Dataset/Microsoft_Corporation', '../Dataset/Perfect_Plastic_Printing_Corporation', '../Dataset/Plaid_Inc', '../Dataset/Randstad_Technologies_LLC', '../Dataset/RELX_Inc', '../Dataset/salesforce.com_inc', '../Dataset/SightSpan', '../Dataset/Slack_Technologies_Inc', '../Dataset/Smartly_Inc', '../Dataset/Total_Quality_Logistics', '../Dataset/Uber_Technologies_Inc', '../Dataset/ULINE', '../Dataset/WeWork_Companies_Inc_', '../Dataset/zoom']\n",
      "\n",
      "ADP_LLC vendor Processing \n"
     ]
    },
    {
     "name": "stderr",
     "output_type": "stream",
     "text": [
      "dirs: 100%|██████████| 97/97 [00:00<00:00, 105.74it/s]\n"
     ]
    },
    {
     "name": "stdout",
     "output_type": "stream",
     "text": [
      "\n",
      "Align_Technology_Inc vendor Processing \n"
     ]
    },
    {
     "name": "stderr",
     "output_type": "stream",
     "text": [
      "dirs: 100%|██████████| 51/51 [00:00<00:00, 94.08it/s]\n"
     ]
    },
    {
     "name": "stdout",
     "output_type": "stream",
     "text": [
      "\n",
      "ALLIANCE_VANTAGE_LIMITED vendor Processing \n"
     ]
    },
    {
     "name": "stderr",
     "output_type": "stream",
     "text": [
      "dirs: 100%|██████████| 40/40 [00:00<00:00, 95.40it/s]\n"
     ]
    },
    {
     "name": "stdout",
     "output_type": "stream",
     "text": [
      "\n",
      "Amazon_Business vendor Processing \n"
     ]
    },
    {
     "name": "stderr",
     "output_type": "stream",
     "text": [
      "dirs: 100%|██████████| 279/279 [00:03<00:00, 88.58it/s]\n"
     ]
    },
    {
     "name": "stdout",
     "output_type": "stream",
     "text": [
      "\n",
      "Apple_Inc (invoices) vendor Processing \n"
     ]
    },
    {
     "name": "stderr",
     "output_type": "stream",
     "text": [
      "dirs: 100%|██████████| 89/89 [00:00<00:00, 93.36it/s] \n"
     ]
    },
    {
     "name": "stdout",
     "output_type": "stream",
     "text": [
      "\n",
      "apple_search_ads vendor Processing \n"
     ]
    },
    {
     "name": "stderr",
     "output_type": "stream",
     "text": [
      "dirs: 100%|██████████| 80/80 [00:00<00:00, 81.45it/s] \n"
     ]
    },
    {
     "name": "stdout",
     "output_type": "stream",
     "text": [
      "\n",
      "Atlassian vendor Processing \n"
     ]
    },
    {
     "name": "stderr",
     "output_type": "stream",
     "text": [
      "dirs: 100%|██████████| 30/30 [00:00<00:00, 131.80it/s]\n"
     ]
    },
    {
     "name": "stdout",
     "output_type": "stream",
     "text": [
      "\n",
      "Avenue_Logistics vendor Processing \n"
     ]
    },
    {
     "name": "stderr",
     "output_type": "stream",
     "text": [
      "dirs: 100%|██████████| 58/58 [00:00<00:00, 81.14it/s]\n"
     ]
    },
    {
     "name": "stdout",
     "output_type": "stream",
     "text": [
      "\n",
      "Aws vendor Processing \n"
     ]
    },
    {
     "name": "stderr",
     "output_type": "stream",
     "text": [
      "dirs: 100%|██████████| 209/209 [00:05<00:00, 40.01it/s]\n"
     ]
    },
    {
     "name": "stdout",
     "output_type": "stream",
     "text": [
      "\n",
      "AXLE_LOGISTICS vendor Processing \n"
     ]
    },
    {
     "name": "stderr",
     "output_type": "stream",
     "text": [
      "dirs: 100%|██████████| 100/100 [00:01<00:00, 85.52it/s]\n"
     ]
    },
    {
     "name": "stdout",
     "output_type": "stream",
     "text": [
      "\n",
      "Bacon_Work vendor Processing \n"
     ]
    },
    {
     "name": "stderr",
     "output_type": "stream",
     "text": [
      "dirs: 100%|██████████| 100/100 [00:01<00:00, 81.90it/s]\n"
     ]
    },
    {
     "name": "stdout",
     "output_type": "stream",
     "text": [
      "\n",
      "CDW_Direct vendor Processing \n"
     ]
    },
    {
     "name": "stderr",
     "output_type": "stream",
     "text": [
      "dirs: 100%|██████████| 122/122 [00:01<00:00, 70.88it/s]\n"
     ]
    },
    {
     "name": "stdout",
     "output_type": "stream",
     "text": [
      "\n",
      "CLEARFREIGHT_INC vendor Processing \n"
     ]
    },
    {
     "name": "stderr",
     "output_type": "stream",
     "text": [
      "dirs: 100%|██████████| 51/51 [00:00<00:00, 66.24it/s]\n"
     ]
    },
    {
     "name": "stdout",
     "output_type": "stream",
     "text": [
      "\n",
      "Cooley_LLP vendor Processing \n"
     ]
    },
    {
     "name": "stderr",
     "output_type": "stream",
     "text": [
      "dirs: 100%|██████████| 100/100 [00:01<00:00, 97.30it/s]\n"
     ]
    },
    {
     "name": "stdout",
     "output_type": "stream",
     "text": [
      "\n",
      "CSC vendor Processing \n"
     ]
    },
    {
     "name": "stderr",
     "output_type": "stream",
     "text": [
      "dirs: 100%|██████████| 53/53 [00:00<00:00, 66.89it/s]\n"
     ]
    },
    {
     "name": "stdout",
     "output_type": "stream",
     "text": [
      "\n",
      "Datadog vendor Processing \n"
     ]
    },
    {
     "name": "stderr",
     "output_type": "stream",
     "text": [
      "dirs: 100%|██████████| 43/43 [00:00<00:00, 83.69it/s]\n"
     ]
    },
    {
     "name": "stdout",
     "output_type": "stream",
     "text": [
      "\n",
      "DHL_eCommerce vendor Processing \n"
     ]
    },
    {
     "name": "stderr",
     "output_type": "stream",
     "text": [
      "dirs: 100%|██████████| 89/89 [00:00<00:00, 114.25it/s]\n"
     ]
    },
    {
     "name": "stdout",
     "output_type": "stream",
     "text": [
      "\n",
      "Electric_Al_Inc vendor Processing \n"
     ]
    },
    {
     "name": "stderr",
     "output_type": "stream",
     "text": [
      "dirs: 100%|██████████| 97/97 [00:00<00:00, 97.43it/s]\n"
     ]
    },
    {
     "name": "stdout",
     "output_type": "stream",
     "text": [
      "\n",
      "Employee_Benefits_Corporation vendor Processing \n"
     ]
    },
    {
     "name": "stderr",
     "output_type": "stream",
     "text": [
      "dirs: 100%|██████████| 50/50 [00:00<00:00, 113.02it/s]\n"
     ]
    },
    {
     "name": "stdout",
     "output_type": "stream",
     "text": [
      "\n",
      "Equifax_Information_SVCS_LLC vendor Processing \n"
     ]
    },
    {
     "name": "stderr",
     "output_type": "stream",
     "text": [
      "dirs: 100%|██████████| 62/62 [00:00<00:00, 76.41it/s]\n"
     ]
    },
    {
     "name": "stdout",
     "output_type": "stream",
     "text": [
      "\n",
      "esendex vendor Processing \n"
     ]
    },
    {
     "name": "stderr",
     "output_type": "stream",
     "text": [
      "dirs: 100%|██████████| 28/28 [00:00<00:00, 96.41it/s]\n"
     ]
    },
    {
     "name": "stdout",
     "output_type": "stream",
     "text": [
      "\n",
      "Facebook_Inc vendor Processing \n"
     ]
    },
    {
     "name": "stderr",
     "output_type": "stream",
     "text": [
      "dirs: 100%|██████████| 17/17 [00:00<00:00, 110.52it/s]\n"
     ]
    },
    {
     "name": "stdout",
     "output_type": "stream",
     "text": [
      "\n",
      "FedEx vendor Processing \n"
     ]
    },
    {
     "name": "stderr",
     "output_type": "stream",
     "text": [
      "dirs: 100%|██████████| 112/112 [00:02<00:00, 45.52it/s]\n"
     ]
    },
    {
     "name": "stdout",
     "output_type": "stream",
     "text": [
      "\n",
      "Freshworks_Inc_ vendor Processing \n"
     ]
    },
    {
     "name": "stderr",
     "output_type": "stream",
     "text": [
      "dirs: 100%|██████████| 36/36 [00:00<00:00, 90.38it/s]\n"
     ]
    },
    {
     "name": "stdout",
     "output_type": "stream",
     "text": [
      "\n",
      "Github vendor Processing \n"
     ]
    },
    {
     "name": "stderr",
     "output_type": "stream",
     "text": [
      "dirs: 100%|██████████| 65/65 [00:00<00:00, 89.11it/s] \n"
     ]
    },
    {
     "name": "stdout",
     "output_type": "stream",
     "text": [
      "\n",
      "Glean_Analytics_Inc vendor Processing \n"
     ]
    },
    {
     "name": "stderr",
     "output_type": "stream",
     "text": [
      "dirs: 100%|██████████| 68/68 [00:00<00:00, 95.24it/s]\n"
     ]
    },
    {
     "name": "stdout",
     "output_type": "stream",
     "text": [
      "\n",
      "Goodwin_Procter_LLP vendor Processing \n"
     ]
    },
    {
     "name": "stderr",
     "output_type": "stream",
     "text": [
      "dirs: 100%|██████████| 103/103 [00:02<00:00, 40.27it/s]\n"
     ]
    },
    {
     "name": "stdout",
     "output_type": "stream",
     "text": [
      "\n",
      "google_llc vendor Processing \n"
     ]
    },
    {
     "name": "stderr",
     "output_type": "stream",
     "text": [
      "dirs: 100%|██████████| 90/90 [00:00<00:00, 103.57it/s]\n"
     ]
    },
    {
     "name": "stdout",
     "output_type": "stream",
     "text": [
      "\n",
      "Gowling_WLG_(Canada)_LLP vendor Processing \n"
     ]
    },
    {
     "name": "stderr",
     "output_type": "stream",
     "text": [
      "dirs: 100%|██████████| 95/95 [00:01<00:00, 86.21it/s]\n"
     ]
    },
    {
     "name": "stdout",
     "output_type": "stream",
     "text": [
      "\n",
      "Hubspot vendor Processing \n"
     ]
    },
    {
     "name": "stderr",
     "output_type": "stream",
     "text": [
      "dirs: 100%|██████████| 96/96 [00:01<00:00, 59.32it/s]\n"
     ]
    },
    {
     "name": "stdout",
     "output_type": "stream",
     "text": [
      "\n",
      "Lindenmeyr_Munroe vendor Processing \n"
     ]
    },
    {
     "name": "stderr",
     "output_type": "stream",
     "text": [
      "dirs: 100%|██████████| 62/62 [00:02<00:00, 24.95it/s]\n"
     ]
    },
    {
     "name": "stdout",
     "output_type": "stream",
     "text": [
      "\n",
      "LinkedIn_Corporation vendor Processing \n"
     ]
    },
    {
     "name": "stderr",
     "output_type": "stream",
     "text": [
      "dirs: 100%|██████████| 70/70 [00:00<00:00, 75.99it/s] \n"
     ]
    },
    {
     "name": "stdout",
     "output_type": "stream",
     "text": [
      "\n",
      "MainStreet_Work_Inc vendor Processing \n"
     ]
    },
    {
     "name": "stderr",
     "output_type": "stream",
     "text": [
      "dirs: 100%|██████████| 75/75 [00:00<00:00, 111.74it/s]\n"
     ]
    },
    {
     "name": "stdout",
     "output_type": "stream",
     "text": [
      "\n",
      "Maples_and_Calder_LLP vendor Processing \n"
     ]
    },
    {
     "name": "stderr",
     "output_type": "stream",
     "text": [
      "dirs: 100%|██████████| 103/103 [00:01<00:00, 87.95it/s]\n"
     ]
    },
    {
     "name": "stdout",
     "output_type": "stream",
     "text": [
      "\n",
      "Marcum_LLP vendor Processing \n"
     ]
    },
    {
     "name": "stderr",
     "output_type": "stream",
     "text": [
      "dirs: 100%|██████████| 101/101 [00:00<00:00, 105.81it/s]\n"
     ]
    },
    {
     "name": "stdout",
     "output_type": "stream",
     "text": [
      "\n",
      "Medline vendor Processing \n"
     ]
    },
    {
     "name": "stderr",
     "output_type": "stream",
     "text": [
      "dirs: 100%|██████████| 68/68 [00:00<00:00, 95.80it/s]\n"
     ]
    },
    {
     "name": "stdout",
     "output_type": "stream",
     "text": [
      "\n",
      "Microsoft_Corporation vendor Processing \n"
     ]
    },
    {
     "name": "stderr",
     "output_type": "stream",
     "text": [
      "dirs: 100%|██████████| 96/96 [00:01<00:00, 75.94it/s]\n"
     ]
    },
    {
     "name": "stdout",
     "output_type": "stream",
     "text": [
      "\n",
      "Perfect_Plastic_Printing_Corporation vendor Processing \n"
     ]
    },
    {
     "name": "stderr",
     "output_type": "stream",
     "text": [
      "dirs: 100%|██████████| 55/55 [00:00<00:00, 83.76it/s] \n"
     ]
    },
    {
     "name": "stdout",
     "output_type": "stream",
     "text": [
      "\n",
      "Plaid_Inc vendor Processing \n"
     ]
    },
    {
     "name": "stderr",
     "output_type": "stream",
     "text": [
      "dirs: 100%|██████████| 100/100 [00:00<00:00, 113.17it/s]\n"
     ]
    },
    {
     "name": "stdout",
     "output_type": "stream",
     "text": [
      "\n",
      "Randstad_Technologies_LLC vendor Processing \n"
     ]
    },
    {
     "name": "stderr",
     "output_type": "stream",
     "text": [
      "dirs: 100%|██████████| 100/100 [00:00<00:00, 103.65it/s]\n"
     ]
    },
    {
     "name": "stdout",
     "output_type": "stream",
     "text": [
      "\n",
      "RELX_Inc vendor Processing \n"
     ]
    },
    {
     "name": "stderr",
     "output_type": "stream",
     "text": [
      "dirs: 100%|██████████| 132/132 [00:01<00:00, 92.56it/s]\n"
     ]
    },
    {
     "name": "stdout",
     "output_type": "stream",
     "text": [
      "\n",
      "salesforce.com_inc vendor Processing \n"
     ]
    },
    {
     "name": "stderr",
     "output_type": "stream",
     "text": [
      "dirs: 100%|██████████| 53/53 [00:00<00:00, 102.28it/s]\n"
     ]
    },
    {
     "name": "stdout",
     "output_type": "stream",
     "text": [
      "\n",
      "SightSpan vendor Processing \n"
     ]
    },
    {
     "name": "stderr",
     "output_type": "stream",
     "text": [
      "dirs: 100%|██████████| 40/40 [00:00<00:00, 92.77it/s]\n"
     ]
    },
    {
     "name": "stdout",
     "output_type": "stream",
     "text": [
      "\n",
      "Slack_Technologies_Inc vendor Processing \n"
     ]
    },
    {
     "name": "stderr",
     "output_type": "stream",
     "text": [
      "dirs: 100%|██████████| 51/51 [00:00<00:00, 108.52it/s]\n"
     ]
    },
    {
     "name": "stdout",
     "output_type": "stream",
     "text": [
      "\n",
      "Smartly_Inc vendor Processing \n"
     ]
    },
    {
     "name": "stderr",
     "output_type": "stream",
     "text": [
      "dirs: 100%|██████████| 100/100 [00:01<00:00, 89.62it/s]\n"
     ]
    },
    {
     "name": "stdout",
     "output_type": "stream",
     "text": [
      "\n",
      "Total_Quality_Logistics vendor Processing \n"
     ]
    },
    {
     "name": "stderr",
     "output_type": "stream",
     "text": [
      "dirs: 100%|██████████| 100/100 [00:02<00:00, 47.57it/s]\n"
     ]
    },
    {
     "name": "stdout",
     "output_type": "stream",
     "text": [
      "\n",
      "Uber_Technologies_Inc vendor Processing \n"
     ]
    },
    {
     "name": "stderr",
     "output_type": "stream",
     "text": [
      "dirs: 100%|██████████| 52/52 [00:00<00:00, 97.49it/s] \n"
     ]
    },
    {
     "name": "stdout",
     "output_type": "stream",
     "text": [
      "\n",
      "ULINE vendor Processing \n"
     ]
    },
    {
     "name": "stderr",
     "output_type": "stream",
     "text": [
      "dirs: 100%|██████████| 101/101 [00:01<00:00, 82.50it/s]\n"
     ]
    },
    {
     "name": "stdout",
     "output_type": "stream",
     "text": [
      "\n",
      "WeWork_Companies_Inc_ vendor Processing \n"
     ]
    },
    {
     "name": "stderr",
     "output_type": "stream",
     "text": [
      "dirs: 100%|██████████| 35/35 [00:00<00:00, 102.84it/s]\n"
     ]
    },
    {
     "name": "stdout",
     "output_type": "stream",
     "text": [
      "\n",
      "zoom vendor Processing \n"
     ]
    },
    {
     "name": "stderr",
     "output_type": "stream",
     "text": [
      "dirs: 100%|██████████| 36/36 [00:00<00:00, 94.44it/s]\n"
     ]
    }
   ],
   "source": [
    "#path_of_dataset=input('Enter Path of Dataset to Begin: ')\n",
    "X,Y,map=prepare_all_dataset('../Dataset')#path_of_dataset)\n",
    "n_class=len(map)\n",
    "X=get_images_array(X)\n",
    "Y=np.asarray(Y)\n",
    "\n",
    "dump_load_map(map,0)\n",
    "#print(Y)\n",
    "\n",
    "Y=tf.keras.utils.to_categorical(\n",
    "    Y, num_classes=n_class, dtype='float32')\n",
    "\n",
    "\n",
    "class_weights=get_class_weights(Y)\n",
    "X_train,X_test,Y_train,Y_test=train_test_split(X,Y)\n"
   ]
  },
  {
   "cell_type": "code",
   "execution_count": 3,
   "metadata": {},
   "outputs": [
    {
     "name": "stdout",
     "output_type": "stream",
     "text": [
      "{0: 0.8906122448979592,\n",
      " 1: 1.5585714285714285,\n",
      " 2: 2.182,\n",
      " 3: 0.2909333333333333,\n",
      " 4: 0.9091666666666667,\n",
      " 5: 0.8906122448979592,\n",
      " 6: 4.364,\n",
      " 7: 1.5048275862068965,\n",
      " 8: 0.2346236559139785,\n",
      " 9: 0.8728,\n",
      " 10: 0.8728,\n",
      " 11: 0.6234285714285714,\n",
      " 12: 1.6784615384615384,\n",
      " 13: 0.8728,\n",
      " 14: 1.6784615384615384,\n",
      " 15: 1.9836363636363636,\n",
      " 16: 0.9091666666666667,\n",
      " 17: 0.9091666666666667,\n",
      " 18: 1.7456,\n",
      " 19: 1.407741935483871,\n",
      " 20: 3.117142857142857,\n",
      " 21: 5.455,\n",
      " 22: 0.7273333333333334,\n",
      " 23: 2.4244444444444446,\n",
      " 24: 1.118974358974359,\n",
      " 25: 1.2835294117647058,\n",
      " 26: 0.8392307692307692,\n",
      " 27: 0.9697777777777777,\n",
      " 28: 0.9285106382978724,\n",
      " 29: 0.5594871794871795,\n",
      " 30: 1.407741935483871,\n",
      " 31: 0.9918181818181818,\n",
      " 32: 1.148421052631579,\n",
      " 33: 0.855686274509804,\n",
      " 34: 0.8728,\n",
      " 35: 1.3224242424242425,\n",
      " 36: 0.9285106382978724,\n",
      " 37: 1.3224242424242425,\n",
      " 38: 0.8728,\n",
      " 39: 0.8728,\n",
      " 40: 0.6713846153846154,\n",
      " 41: 1.7456,\n",
      " 42: 2.182,\n",
      " 43: 1.7456,\n",
      " 44: 0.8728,\n",
      " 45: 0.8728,\n",
      " 46: 1.6784615384615384,\n",
      " 47: 0.8728,\n",
      " 48: 2.5670588235294116,\n",
      " 49: 2.5670588235294116}\n"
     ]
    }
   ],
   "source": [
    "pprint.pprint(class_weights)"
   ]
  },
  {
   "attachments": {},
   "cell_type": "markdown",
   "metadata": {},
   "source": [
    "<h3> Creating Architecture of EffiicnetNetB0 </h3>"
   ]
  },
  {
   "cell_type": "code",
   "execution_count": 4,
   "metadata": {},
   "outputs": [],
   "source": [
    "def Custom_Efficient_Net(image_shape=X[0].shape,output_shape=n_class):\n",
    "    if 'Efficient_net_custom.h5' in os.listdir(os.getcwd()):\n",
    "        print('Loaded Previous Model ')\n",
    "        model=tf.keras.models.load_model('Efficient_net_custom.h5')\n",
    "    else: \n",
    "        input_val=tf.keras.layers.Input(shape=image_shape)\n",
    "        model=EfficientNetB0(include_top=False,input_tensor=input_val,weights='imagenet')\n",
    "\n",
    "        for i in range(int(len(model.layers) * 0.75)):\n",
    "            model.layers[i].trainable = False\n",
    "\n",
    "        #model.trainable = False\n",
    "\n",
    "\n",
    "        x = tf.keras.layers.GlobalAveragePooling2D(name=\"avg_pool\")(model.output)\n",
    "        x = tf.keras.layers.BatchNormalization()(x)\n",
    "\n",
    "        top_dropout_rate = 0.8\n",
    "        x = tf.keras.layers.Dropout(top_dropout_rate, name=\"top_dropout\")(x)\n",
    "        #x=tf.keras.layers.Flatten()\n",
    "        output = tf.keras.layers.Dense(output_shape, activation=\"softmax\", name=\"pred\")(x)\n",
    "\n",
    "        model=tf.keras.Model(inputs=input_val,outputs=output)\n",
    "    \n",
    "    model.compile(\n",
    "        optimizer=\"adam\", loss=\"categorical_crossentropy\", metrics=[\"accuracy\"])\n",
    "    return model\n",
    "\n",
    "custom_model=Custom_Efficient_Net()"
   ]
  },
  {
   "attachments": {},
   "cell_type": "markdown",
   "metadata": {},
   "source": [
    "<h3> Training The Model </h3>"
   ]
  },
  {
   "cell_type": "code",
   "execution_count": 5,
   "metadata": {},
   "outputs": [
    {
     "name": "stdout",
     "output_type": "stream",
     "text": [
      "Epoch 1/25\n",
      "13/13 [==============================] - 41s 3s/step - loss: 3.1014 - accuracy: 0.4694 - val_loss: 3.5622 - val_accuracy: 0.0824\n",
      "Epoch 2/25\n",
      "13/13 [==============================] - 38s 3s/step - loss: 0.3745 - accuracy: 0.9163 - val_loss: 2.9573 - val_accuracy: 0.3700\n",
      "Epoch 3/25\n",
      "13/13 [==============================] - 39s 3s/step - loss: 0.1323 - accuracy: 0.9627 - val_loss: 2.3416 - val_accuracy: 0.5495\n",
      "Epoch 4/25\n",
      "13/13 [==============================] - 38s 3s/step - loss: 0.0641 - accuracy: 0.9811 - val_loss: 1.7866 - val_accuracy: 0.7289\n",
      "Epoch 5/25\n",
      "13/13 [==============================] - 40s 3s/step - loss: 0.0556 - accuracy: 0.9847 - val_loss: 1.3006 - val_accuracy: 0.8278\n",
      "Epoch 6/25\n",
      "13/13 [==============================] - 39s 3s/step - loss: 0.0362 - accuracy: 0.9890 - val_loss: 0.9297 - val_accuracy: 0.9176\n",
      "Epoch 7/25\n",
      "13/13 [==============================] - 39s 3s/step - loss: 0.0395 - accuracy: 0.9908 - val_loss: 0.6218 - val_accuracy: 0.9634\n",
      "Epoch 8/25\n",
      "13/13 [==============================] - 39s 3s/step - loss: 0.0348 - accuracy: 0.9921 - val_loss: 0.3936 - val_accuracy: 0.9853\n",
      "Epoch 9/25\n",
      "13/13 [==============================] - 40s 3s/step - loss: 0.0187 - accuracy: 0.9939 - val_loss: 0.2210 - val_accuracy: 0.9908\n",
      "Epoch 10/25\n",
      "13/13 [==============================] - 41s 3s/step - loss: 0.0304 - accuracy: 0.9939 - val_loss: 0.1175 - val_accuracy: 0.9927\n",
      "Epoch 11/25\n",
      "13/13 [==============================] - 41s 3s/step - loss: 0.0178 - accuracy: 0.9945 - val_loss: 0.0773 - val_accuracy: 0.9927\n",
      "Epoch 12/25\n",
      "13/13 [==============================] - 41s 3s/step - loss: 0.0116 - accuracy: 0.9969 - val_loss: 0.0583 - val_accuracy: 0.9927\n",
      "Epoch 13/25\n",
      "13/13 [==============================] - 41s 3s/step - loss: 0.0132 - accuracy: 0.9963 - val_loss: 0.0474 - val_accuracy: 0.9927\n",
      "Epoch 14/25\n",
      "13/13 [==============================] - 40s 3s/step - loss: 0.0053 - accuracy: 0.9988 - val_loss: 0.0411 - val_accuracy: 0.9927\n",
      "Epoch 15/25\n",
      "13/13 [==============================] - 41s 3s/step - loss: 0.0225 - accuracy: 0.9951 - val_loss: 0.0360 - val_accuracy: 0.9927\n",
      "Epoch 16/25\n",
      "13/13 [==============================] - 41s 3s/step - loss: 0.0082 - accuracy: 0.9988 - val_loss: 0.0333 - val_accuracy: 0.9927\n",
      "Epoch 17/25\n",
      "13/13 [==============================] - 41s 3s/step - loss: 0.0098 - accuracy: 0.9957 - val_loss: 0.0316 - val_accuracy: 0.9927\n",
      "Epoch 18/25\n",
      "13/13 [==============================] - 41s 3s/step - loss: 0.0079 - accuracy: 0.9969 - val_loss: 0.0288 - val_accuracy: 0.9927\n",
      "Epoch 19/25\n",
      "13/13 [==============================] - 41s 3s/step - loss: 0.0063 - accuracy: 0.9988 - val_loss: 0.0281 - val_accuracy: 0.9927\n",
      "Epoch 20/25\n",
      "13/13 [==============================] - 41s 3s/step - loss: 0.0049 - accuracy: 0.9982 - val_loss: 0.0274 - val_accuracy: 0.9927\n",
      "Epoch 21/25\n",
      "13/13 [==============================] - 41s 3s/step - loss: 0.0048 - accuracy: 0.9994 - val_loss: 0.0261 - val_accuracy: 0.9927\n",
      "Epoch 22/25\n",
      "13/13 [==============================] - 42s 3s/step - loss: 0.0016 - accuracy: 1.0000 - val_loss: 0.0255 - val_accuracy: 0.9927\n",
      "Epoch 23/25\n",
      "13/13 [==============================] - 41s 3s/step - loss: 0.0057 - accuracy: 0.9988 - val_loss: 0.0242 - val_accuracy: 0.9945\n",
      "Epoch 24/25\n",
      "13/13 [==============================] - 41s 3s/step - loss: 0.0084 - accuracy: 0.9982 - val_loss: 0.0235 - val_accuracy: 0.9945\n",
      "Epoch 25/25\n",
      "13/13 [==============================] - 42s 3s/step - loss: 0.0076 - accuracy: 0.9976 - val_loss: 0.0221 - val_accuracy: 0.9963\n"
     ]
    }
   ],
   "source": [
    "callback = tf.keras.callbacks.EarlyStopping(patience=3, monitor='val_loss',mode='auto',restore_best_weights=True )\n",
    "hist=custom_model.fit(X_train,Y_train,validation_data=(X_test,Y_test),epochs=25,callbacks=[callback],batch_size=128,class_weight=class_weights)"
   ]
  },
  {
   "attachments": {},
   "cell_type": "markdown",
   "metadata": {},
   "source": [
    "<h3> Saving Model and plotting the graphs </h3>"
   ]
  },
  {
   "cell_type": "code",
   "execution_count": 6,
   "metadata": {},
   "outputs": [
    {
     "data": {
      "image/png": "[encoded data removed]",
      "text/plain": [
       "<Figure size 3000x1000 with 1 Axes>"
      ]
     },
     "metadata": {},
     "output_type": "display_data"
    },
    {
     "data": {
      "image/png": "[encoded data removed]",
      "text/plain": [
       "<Figure size 3000x1000 with 1 Axes>"
      ]
     },
     "metadata": {},
     "output_type": "display_data"
    }
   ],
   "source": [
    "custom_model.save('Efficient_net_custom.h5')\n",
    "plot_metrics_for_training(hist.history)"
   ]
  },
  {
   "cell_type": "code",
   "execution_count": 7,
   "metadata": {},
   "outputs": [
    {
     "name": "stdout",
     "output_type": "stream",
     "text": [
      "18/18 [==============================] - 8s 400ms/step\n",
      "              precision    recall  f1-score   support\n",
      "\n",
      "           0       1.00      1.00      1.00        15\n",
      "           1       1.00      1.00      1.00         9\n",
      "           2       1.00      1.00      1.00         2\n",
      "           3       1.00      1.00      1.00        42\n",
      "           4       1.00      1.00      1.00         9\n",
      "           5       1.00      0.92      0.96        12\n",
      "           7       1.00      1.00      1.00         7\n",
      "           8       1.00      1.00      1.00        53\n",
      "           9       1.00      1.00      1.00        13\n",
      "          10       1.00      1.00      1.00        14\n",
      "          11       1.00      1.00      1.00        28\n",
      "          12       1.00      0.67      0.80         3\n",
      "          13       1.00      1.00      1.00         5\n",
      "          14       0.80      1.00      0.89         4\n",
      "          15       1.00      1.00      1.00         7\n",
      "          16       1.00      1.00      1.00        13\n",
      "          17       1.00      1.00      1.00        14\n",
      "          18       1.00      1.00      1.00         3\n",
      "          19       1.00      1.00      1.00         8\n",
      "          20       1.00      1.00      1.00         3\n",
      "          21       1.00      1.00      1.00         2\n",
      "          22       1.00      1.00      1.00        12\n",
      "          23       1.00      1.00      1.00         2\n",
      "          24       1.00      1.00      1.00        11\n",
      "          25       1.00      1.00      1.00        10\n",
      "          26       1.00      1.00      1.00        15\n",
      "          27       0.93      1.00      0.96        13\n",
      "          28       1.00      1.00      1.00        11\n",
      "          29       1.00      1.00      1.00        18\n",
      "          30       1.00      1.00      1.00         8\n",
      "          31       1.00      1.00      1.00        11\n",
      "          32       1.00      1.00      1.00        11\n",
      "          33       1.00      1.00      1.00        10\n",
      "          34       1.00      1.00      1.00        14\n",
      "          35       1.00      1.00      1.00        11\n",
      "          36       1.00      1.00      1.00        12\n",
      "          37       1.00      1.00      1.00         7\n",
      "          38       1.00      1.00      1.00        10\n",
      "          39       1.00      1.00      1.00        10\n",
      "          40       1.00      1.00      1.00         9\n",
      "          41       1.00      1.00      1.00         4\n",
      "          42       1.00      1.00      1.00         7\n",
      "          43       1.00      1.00      1.00         9\n",
      "          44       1.00      1.00      1.00        13\n",
      "          45       1.00      1.00      1.00        13\n",
      "          46       1.00      1.00      1.00         6\n",
      "          47       1.00      1.00      1.00        15\n",
      "          48       1.00      1.00      1.00         5\n",
      "          49       1.00      1.00      1.00         3\n",
      "\n",
      "    accuracy                           1.00       546\n",
      "   macro avg       0.99      0.99      0.99       546\n",
      "weighted avg       1.00      1.00      1.00       546\n",
      "\n"
     ]
    }
   ],
   "source": [
    "Yverify=custom_model.predict(X_test)\n",
    "Yverify=np.argmax(Yverify,axis=1).reshape(-1,1)\n",
    "Yverify_ground_truth=np.argmax(Y_test,axis=1).reshape(-1,1)\n",
    "op=classification_report(Yverify_ground_truth,Yverify)\n",
    "print(op)"
   ]
  },
  {
   "attachments": {},
   "cell_type": "markdown",
   "metadata": {},
   "source": [
    "<h3> Inference testing </h3>\n",
    "\n"
   ]
  },
  {
   "cell_type": "code",
   "execution_count": 16,
   "metadata": {},
   "outputs": [],
   "source": [
    "#D:\\Fuse_Work\\Glean_Experiments\\Dataset\\Medline\\01GH7C1RYM86F7JDQFJ1944V84.pdf\n",
    "loaded_model=tf.keras.models.load_model('Efficient_net_custom.h5')\n",
    "map=dump_load_map({},1)\n",
    "path_image=input('Enter PDF Path: ')\n",
    "test_img=inference_image_get(path_image)\n",
    "preds=loaded_model.predict(test_img.reshape(1,test_img.shape[0],test_img.shape[1],test_img.shape[2]))\n",
    "op=np.argmax(preds)\n",
    "print(list(preds[0])[op])\n",
    "if list(preds[0])[op]<=0.6:\n",
    "    print('This file belongs to none of the vendors ')\n",
    "else: \n",
    "    print(list(filter(lambda x: map[x] == op, map))[0])"
   ]
  },
  {
   "cell_type": "code",
   "execution_count": null,
   "metadata": {},
   "outputs": [],
   "source": []
  }
 ],
 "metadata": {
  "kernelspec": {
   "display_name": "MISC",
   "language": "python",
   "name": "python3"
  },
  "language_info": {
   "codemirror_mode": {
    "name": "ipython",
    "version": 3
   },
   "file_extension": ".py",
   "mimetype": "text/x-python",
   "name": "python",
   "nbconvert_exporter": "python",
   "pygments_lexer": "ipython3",
   "version": "3.10.9"
  },
  "orig_nbformat": 4
 },
 "nbformat": 4,
 "nbformat_minor": 2
}
