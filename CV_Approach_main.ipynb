{
 "cells": [
  {
   "attachments": {},
   "cell_type": "markdown",
   "metadata": {},
   "source": [
    "<h1 align='center'> Glean CV Approach </h1>\n",
    "We are going to see how we can try Computer Vision Approach to Classify various vendors. The idea is to use EfficientNetB0 to train on the images of first pages of all pdf documents."
   ]
  },
  {
   "cell_type": "code",
   "execution_count": 1,
   "metadata": {},
   "outputs": [],
   "source": [
    "from utilities import *\n",
    "from PIL import Image\n",
    "import tensorflow as tf\n",
    "from keras.applications.efficientnet import EfficientNetB0\n",
    "from sklearn.model_selection import train_test_split\n",
    "from sklearn.utils.class_weight import compute_class_weight\n",
    "from sklearn.metrics import classification_report\n"
   ]
  },
  {
   "attachments": {},
   "cell_type": "markdown",
   "metadata": {},
   "source": [
    "<h3> Getting Dataset </h3>\n",
    "\n",
    "Initially our files are present as pdf we are going to conver them into images. We are taking the  first page of each pdf file and using it to get the image from that page and going to train only on those  "
   ]
  },
  {
   "cell_type": "code",
   "execution_count": 2,
   "metadata": {},
   "outputs": [
    {
     "name": "stdout",
     "output_type": "stream",
     "text": [
      "Here are vendors: ['../Dataset/ADP_LLC', '../Dataset/Align_Technology_Inc', '../Dataset/ALLIANCE_VANTAGE_LIMITED', '../Dataset/Amazon_Business', '../Dataset/Apple_Inc (invoices)', '../Dataset/apple_search_ads', '../Dataset/Atlassian', '../Dataset/Avenue_Logistics', '../Dataset/Aws', '../Dataset/AXLE_LOGISTICS', '../Dataset/Bacon_Work', '../Dataset/CDW_Direct', '../Dataset/CLEARFREIGHT_INC', '../Dataset/Cooley_LLP', '../Dataset/CSC', '../Dataset/Datadog', '../Dataset/DHL_eCommerce', '../Dataset/Electric_Al_Inc', '../Dataset/Employee_Benefits_Corporation', '../Dataset/Equifax_Information_SVCS_LLC', '../Dataset/esendex', '../Dataset/Facebook_Inc', '../Dataset/FedEx', '../Dataset/Freshworks_Inc_', '../Dataset/Github', '../Dataset/Glean_Analytics_Inc', '../Dataset/Goodwin_Procter_LLP', '../Dataset/google_llc', '../Dataset/Gowling_WLG_(Canada)_LLP', '../Dataset/Hubspot', '../Dataset/Lindenmeyr_Munroe', '../Dataset/LinkedIn_Corporation', '../Dataset/MainStreet_Work_Inc', '../Dataset/Maples_and_Calder_LLP', '../Dataset/Marcum_LLP', '../Dataset/Medline', '../Dataset/Microsoft_Corporation', '../Dataset/Perfect_Plastic_Printing_Corporation', '../Dataset/Plaid_Inc', '../Dataset/Randstad_Technologies_LLC', '../Dataset/RELX_Inc', '../Dataset/salesforce.com_inc', '../Dataset/SightSpan', '../Dataset/Slack_Technologies_Inc', '../Dataset/Smartly_Inc', '../Dataset/Total_Quality_Logistics', '../Dataset/Uber_Technologies_Inc', '../Dataset/ULINE', '../Dataset/WeWork_Companies_Inc_', '../Dataset/zoom']\n",
      "\n",
      "ADP_LLC vendor Processing \n"
     ]
    },
    {
     "name": "stderr",
     "output_type": "stream",
     "text": [
      "dirs: 100%|██████████| 94/94 [00:00<00:00, 143.96it/s]\n"
     ]
    },
    {
     "name": "stdout",
     "output_type": "stream",
     "text": [
      "\n",
      "Align_Technology_Inc vendor Processing \n"
     ]
    },
    {
     "name": "stderr",
     "output_type": "stream",
     "text": [
      "dirs: 100%|██████████| 51/51 [00:00<00:00, 122.80it/s]\n"
     ]
    },
    {
     "name": "stdout",
     "output_type": "stream",
     "text": [
      "\n",
      "ALLIANCE_VANTAGE_LIMITED vendor Processing \n"
     ]
    },
    {
     "name": "stderr",
     "output_type": "stream",
     "text": [
      "dirs: 100%|██████████| 40/40 [00:00<00:00, 122.06it/s]\n"
     ]
    },
    {
     "name": "stdout",
     "output_type": "stream",
     "text": [
      "\n",
      "Amazon_Business vendor Processing \n"
     ]
    },
    {
     "name": "stderr",
     "output_type": "stream",
     "text": [
      "dirs: 100%|██████████| 251/251 [00:02<00:00, 122.97it/s]\n"
     ]
    },
    {
     "name": "stdout",
     "output_type": "stream",
     "text": [
      "\n",
      "Apple_Inc (invoices) vendor Processing \n"
     ]
    },
    {
     "name": "stderr",
     "output_type": "stream",
     "text": [
      "dirs: 100%|██████████| 83/83 [00:00<00:00, 135.47it/s]\n"
     ]
    },
    {
     "name": "stdout",
     "output_type": "stream",
     "text": [
      "\n",
      "apple_search_ads vendor Processing \n"
     ]
    },
    {
     "name": "stderr",
     "output_type": "stream",
     "text": [
      "dirs: 100%|██████████| 43/43 [00:00<00:00, 148.04it/s]\n"
     ]
    },
    {
     "name": "stdout",
     "output_type": "stream",
     "text": [
      "\n",
      "Atlassian vendor Processing \n"
     ]
    },
    {
     "name": "stderr",
     "output_type": "stream",
     "text": [
      "dirs: 100%|██████████| 30/30 [00:00<00:00, 183.28it/s]\n"
     ]
    },
    {
     "name": "stdout",
     "output_type": "stream",
     "text": [
      "\n",
      "Avenue_Logistics vendor Processing \n"
     ]
    },
    {
     "name": "stderr",
     "output_type": "stream",
     "text": [
      "dirs: 100%|██████████| 58/58 [00:00<00:00, 126.58it/s]\n"
     ]
    },
    {
     "name": "stdout",
     "output_type": "stream",
     "text": [
      "\n",
      "Aws vendor Processing \n"
     ]
    },
    {
     "name": "stderr",
     "output_type": "stream",
     "text": [
      "dirs: 100%|██████████| 49/49 [00:00<00:00, 97.05it/s]\n"
     ]
    },
    {
     "name": "stdout",
     "output_type": "stream",
     "text": [
      "\n",
      "AXLE_LOGISTICS vendor Processing \n"
     ]
    },
    {
     "name": "stderr",
     "output_type": "stream",
     "text": [
      "dirs: 100%|██████████| 100/100 [00:00<00:00, 137.61it/s]\n"
     ]
    },
    {
     "name": "stdout",
     "output_type": "stream",
     "text": [
      "\n",
      "Bacon_Work vendor Processing \n"
     ]
    },
    {
     "name": "stderr",
     "output_type": "stream",
     "text": [
      "dirs: 100%|██████████| 100/100 [00:00<00:00, 105.20it/s]\n"
     ]
    },
    {
     "name": "stdout",
     "output_type": "stream",
     "text": [
      "\n",
      "CDW_Direct vendor Processing \n"
     ]
    },
    {
     "name": "stderr",
     "output_type": "stream",
     "text": [
      "dirs: 100%|██████████| 102/102 [00:00<00:00, 115.14it/s]\n"
     ]
    },
    {
     "name": "stdout",
     "output_type": "stream",
     "text": [
      "\n",
      "CLEARFREIGHT_INC vendor Processing \n"
     ]
    },
    {
     "name": "stderr",
     "output_type": "stream",
     "text": [
      "dirs: 100%|██████████| 51/51 [00:00<00:00, 82.29it/s]\n"
     ]
    },
    {
     "name": "stdout",
     "output_type": "stream",
     "text": [
      "\n",
      "Cooley_LLP vendor Processing \n"
     ]
    },
    {
     "name": "stderr",
     "output_type": "stream",
     "text": [
      "dirs: 100%|██████████| 100/100 [00:00<00:00, 152.12it/s]\n"
     ]
    },
    {
     "name": "stdout",
     "output_type": "stream",
     "text": [
      "\n",
      "CSC vendor Processing \n"
     ]
    },
    {
     "name": "stderr",
     "output_type": "stream",
     "text": [
      "dirs: 100%|██████████| 53/53 [00:00<00:00, 103.25it/s]\n"
     ]
    },
    {
     "name": "stdout",
     "output_type": "stream",
     "text": [
      "\n",
      "Datadog vendor Processing \n"
     ]
    },
    {
     "name": "stderr",
     "output_type": "stream",
     "text": [
      "dirs: 100%|██████████| 43/43 [00:00<00:00, 112.43it/s]\n"
     ]
    },
    {
     "name": "stdout",
     "output_type": "stream",
     "text": [
      "\n",
      "DHL_eCommerce vendor Processing \n"
     ]
    },
    {
     "name": "stderr",
     "output_type": "stream",
     "text": [
      "dirs: 100%|██████████| 89/89 [00:00<00:00, 157.86it/s]\n"
     ]
    },
    {
     "name": "stdout",
     "output_type": "stream",
     "text": [
      "\n",
      "Electric_Al_Inc vendor Processing \n"
     ]
    },
    {
     "name": "stderr",
     "output_type": "stream",
     "text": [
      "dirs: 100%|██████████| 97/97 [00:00<00:00, 134.33it/s]\n"
     ]
    },
    {
     "name": "stdout",
     "output_type": "stream",
     "text": [
      "\n",
      "Employee_Benefits_Corporation vendor Processing \n"
     ]
    },
    {
     "name": "stderr",
     "output_type": "stream",
     "text": [
      "dirs: 100%|██████████| 50/50 [00:00<00:00, 149.40it/s]\n"
     ]
    },
    {
     "name": "stdout",
     "output_type": "stream",
     "text": [
      "\n",
      "Equifax_Information_SVCS_LLC vendor Processing \n"
     ]
    },
    {
     "name": "stderr",
     "output_type": "stream",
     "text": [
      "dirs: 100%|██████████| 62/62 [00:00<00:00, 109.90it/s]\n"
     ]
    },
    {
     "name": "stdout",
     "output_type": "stream",
     "text": [
      "\n",
      "esendex vendor Processing \n"
     ]
    },
    {
     "name": "stderr",
     "output_type": "stream",
     "text": [
      "dirs: 100%|██████████| 28/28 [00:00<00:00, 126.36it/s]\n"
     ]
    },
    {
     "name": "stdout",
     "output_type": "stream",
     "text": [
      "\n",
      "Facebook_Inc vendor Processing \n"
     ]
    },
    {
     "name": "stderr",
     "output_type": "stream",
     "text": [
      "dirs: 100%|██████████| 17/17 [00:00<00:00, 133.13it/s]\n"
     ]
    },
    {
     "name": "stdout",
     "output_type": "stream",
     "text": [
      "\n",
      "FedEx vendor Processing \n"
     ]
    },
    {
     "name": "stderr",
     "output_type": "stream",
     "text": [
      "dirs: 100%|██████████| 112/112 [00:01<00:00, 101.52it/s]\n"
     ]
    },
    {
     "name": "stdout",
     "output_type": "stream",
     "text": [
      "\n",
      "Freshworks_Inc_ vendor Processing \n"
     ]
    },
    {
     "name": "stderr",
     "output_type": "stream",
     "text": [
      "dirs: 100%|██████████| 36/36 [00:00<00:00, 129.73it/s]\n"
     ]
    },
    {
     "name": "stdout",
     "output_type": "stream",
     "text": [
      "\n",
      "Github vendor Processing \n"
     ]
    },
    {
     "name": "stderr",
     "output_type": "stream",
     "text": [
      "dirs: 100%|██████████| 65/65 [00:00<00:00, 118.71it/s]\n"
     ]
    },
    {
     "name": "stdout",
     "output_type": "stream",
     "text": [
      "\n",
      "Glean_Analytics_Inc vendor Processing \n"
     ]
    },
    {
     "name": "stderr",
     "output_type": "stream",
     "text": [
      "dirs: 100%|██████████| 68/68 [00:00<00:00, 122.30it/s]\n"
     ]
    },
    {
     "name": "stdout",
     "output_type": "stream",
     "text": [
      "\n",
      "Goodwin_Procter_LLP vendor Processing \n"
     ]
    },
    {
     "name": "stderr",
     "output_type": "stream",
     "text": [
      "dirs: 100%|██████████| 103/103 [00:00<00:00, 121.81it/s]\n"
     ]
    },
    {
     "name": "stdout",
     "output_type": "stream",
     "text": [
      "\n",
      "google_llc vendor Processing \n"
     ]
    },
    {
     "name": "stderr",
     "output_type": "stream",
     "text": [
      "dirs: 100%|██████████| 90/90 [00:00<00:00, 143.27it/s]\n"
     ]
    },
    {
     "name": "stdout",
     "output_type": "stream",
     "text": [
      "\n",
      "Gowling_WLG_(Canada)_LLP vendor Processing \n"
     ]
    },
    {
     "name": "stderr",
     "output_type": "stream",
     "text": [
      "dirs: 100%|██████████| 95/95 [00:00<00:00, 121.31it/s]\n"
     ]
    },
    {
     "name": "stdout",
     "output_type": "stream",
     "text": [
      "\n",
      "Hubspot vendor Processing \n"
     ]
    },
    {
     "name": "stderr",
     "output_type": "stream",
     "text": [
      "dirs: 100%|██████████| 37/37 [00:00<00:00, 148.15it/s]\n"
     ]
    },
    {
     "name": "stdout",
     "output_type": "stream",
     "text": [
      "\n",
      "Lindenmeyr_Munroe vendor Processing \n"
     ]
    },
    {
     "name": "stderr",
     "output_type": "stream",
     "text": [
      "dirs: 100%|██████████| 62/62 [00:02<00:00, 27.53it/s]\n"
     ]
    },
    {
     "name": "stdout",
     "output_type": "stream",
     "text": [
      "\n",
      "LinkedIn_Corporation vendor Processing \n"
     ]
    },
    {
     "name": "stderr",
     "output_type": "stream",
     "text": [
      "dirs: 100%|██████████| 50/50 [00:00<00:00, 130.42it/s]\n"
     ]
    },
    {
     "name": "stdout",
     "output_type": "stream",
     "text": [
      "\n",
      "MainStreet_Work_Inc vendor Processing \n"
     ]
    },
    {
     "name": "stderr",
     "output_type": "stream",
     "text": [
      "dirs: 100%|██████████| 73/73 [00:00<00:00, 161.01it/s]\n"
     ]
    },
    {
     "name": "stdout",
     "output_type": "stream",
     "text": [
      "\n",
      "Maples_and_Calder_LLP vendor Processing \n"
     ]
    },
    {
     "name": "stderr",
     "output_type": "stream",
     "text": [
      "dirs: 100%|██████████| 103/103 [00:00<00:00, 112.86it/s]\n"
     ]
    },
    {
     "name": "stdout",
     "output_type": "stream",
     "text": [
      "\n",
      "Marcum_LLP vendor Processing \n"
     ]
    },
    {
     "name": "stderr",
     "output_type": "stream",
     "text": [
      "dirs: 100%|██████████| 101/101 [00:00<00:00, 139.46it/s]\n"
     ]
    },
    {
     "name": "stdout",
     "output_type": "stream",
     "text": [
      "\n",
      "Medline vendor Processing \n"
     ]
    },
    {
     "name": "stderr",
     "output_type": "stream",
     "text": [
      "dirs: 100%|██████████| 68/68 [00:00<00:00, 123.19it/s]\n"
     ]
    },
    {
     "name": "stdout",
     "output_type": "stream",
     "text": [
      "\n",
      "Microsoft_Corporation vendor Processing \n"
     ]
    },
    {
     "name": "stderr",
     "output_type": "stream",
     "text": [
      "dirs: 100%|██████████| 96/96 [00:00<00:00, 117.85it/s]\n"
     ]
    },
    {
     "name": "stdout",
     "output_type": "stream",
     "text": [
      "\n",
      "Perfect_Plastic_Printing_Corporation vendor Processing \n"
     ]
    },
    {
     "name": "stderr",
     "output_type": "stream",
     "text": [
      "dirs: 100%|██████████| 55/55 [00:00<00:00, 101.35it/s]\n"
     ]
    },
    {
     "name": "stdout",
     "output_type": "stream",
     "text": [
      "\n",
      "Plaid_Inc vendor Processing \n"
     ]
    },
    {
     "name": "stderr",
     "output_type": "stream",
     "text": [
      "dirs: 100%|██████████| 100/100 [00:00<00:00, 145.99it/s]\n"
     ]
    },
    {
     "name": "stdout",
     "output_type": "stream",
     "text": [
      "\n",
      "Randstad_Technologies_LLC vendor Processing \n"
     ]
    },
    {
     "name": "stderr",
     "output_type": "stream",
     "text": [
      "dirs: 100%|██████████| 100/100 [00:00<00:00, 137.63it/s]\n"
     ]
    },
    {
     "name": "stdout",
     "output_type": "stream",
     "text": [
      "\n",
      "RELX_Inc vendor Processing \n"
     ]
    },
    {
     "name": "stderr",
     "output_type": "stream",
     "text": [
      "dirs: 100%|██████████| 132/132 [00:01<00:00, 118.06it/s]\n"
     ]
    },
    {
     "name": "stdout",
     "output_type": "stream",
     "text": [
      "\n",
      "salesforce.com_inc vendor Processing \n"
     ]
    },
    {
     "name": "stderr",
     "output_type": "stream",
     "text": [
      "dirs: 100%|██████████| 53/53 [00:00<00:00, 134.29it/s]\n"
     ]
    },
    {
     "name": "stdout",
     "output_type": "stream",
     "text": [
      "\n",
      "SightSpan vendor Processing \n"
     ]
    },
    {
     "name": "stderr",
     "output_type": "stream",
     "text": [
      "dirs: 100%|██████████| 40/40 [00:00<00:00, 126.84it/s]\n"
     ]
    },
    {
     "name": "stdout",
     "output_type": "stream",
     "text": [
      "\n",
      "Slack_Technologies_Inc vendor Processing \n"
     ]
    },
    {
     "name": "stderr",
     "output_type": "stream",
     "text": [
      "dirs: 100%|██████████| 51/51 [00:00<00:00, 151.90it/s]\n"
     ]
    },
    {
     "name": "stdout",
     "output_type": "stream",
     "text": [
      "\n",
      "Smartly_Inc vendor Processing \n"
     ]
    },
    {
     "name": "stderr",
     "output_type": "stream",
     "text": [
      "dirs: 100%|██████████| 100/100 [00:00<00:00, 120.40it/s]\n"
     ]
    },
    {
     "name": "stdout",
     "output_type": "stream",
     "text": [
      "\n",
      "Total_Quality_Logistics vendor Processing \n"
     ]
    },
    {
     "name": "stderr",
     "output_type": "stream",
     "text": [
      "dirs: 100%|██████████| 100/100 [00:01<00:00, 70.63it/s]\n"
     ]
    },
    {
     "name": "stdout",
     "output_type": "stream",
     "text": [
      "\n",
      "Uber_Technologies_Inc vendor Processing \n"
     ]
    },
    {
     "name": "stderr",
     "output_type": "stream",
     "text": [
      "dirs: 100%|██████████| 52/52 [00:00<00:00, 146.25it/s]\n"
     ]
    },
    {
     "name": "stdout",
     "output_type": "stream",
     "text": [
      "\n",
      "ULINE vendor Processing \n"
     ]
    },
    {
     "name": "stderr",
     "output_type": "stream",
     "text": [
      "dirs: 100%|██████████| 101/101 [00:00<00:00, 105.79it/s]\n"
     ]
    },
    {
     "name": "stdout",
     "output_type": "stream",
     "text": [
      "\n",
      "WeWork_Companies_Inc_ vendor Processing \n"
     ]
    },
    {
     "name": "stderr",
     "output_type": "stream",
     "text": [
      "dirs: 100%|██████████| 35/35 [00:00<00:00, 137.64it/s]\n"
     ]
    },
    {
     "name": "stdout",
     "output_type": "stream",
     "text": [
      "\n",
      "zoom vendor Processing \n"
     ]
    },
    {
     "name": "stderr",
     "output_type": "stream",
     "text": [
      "dirs: 100%|██████████| 36/36 [00:00<00:00, 135.11it/s]\n"
     ]
    },
    {
     "name": "stdout",
     "output_type": "stream",
     "text": [
      "{'ADP_LLC': 0, 'Align_Technology_Inc': 1, 'ALLIANCE_VANTAGE_LIMITED': 2, 'Amazon_Business': 3, 'Apple_Inc (invoices)': 4, 'apple_search_ads': 5, 'Atlassian': 6, 'Avenue_Logistics': 7, 'Aws': 8, 'AXLE_LOGISTICS': 9, 'Bacon_Work': 10, 'CDW_Direct': 11, 'CLEARFREIGHT_INC': 12, 'Cooley_LLP': 13, 'CSC': 14, 'Datadog': 15, 'DHL_eCommerce': 16, 'Electric_Al_Inc': 17, 'Employee_Benefits_Corporation': 18, 'Equifax_Information_SVCS_LLC': 19, 'esendex': 20, 'Facebook_Inc': 21, 'FedEx': 22, 'Freshworks_Inc_': 23, 'Github': 24, 'Glean_Analytics_Inc': 25, 'Goodwin_Procter_LLP': 26, 'google_llc': 27, 'Gowling_WLG_(Canada)_LLP': 28, 'Hubspot': 29, 'Lindenmeyr_Munroe': 30, 'LinkedIn_Corporation': 31, 'MainStreet_Work_Inc': 32, 'Maples_and_Calder_LLP': 33, 'Marcum_LLP': 34, 'Medline': 35, 'Microsoft_Corporation': 36, 'Perfect_Plastic_Printing_Corporation': 37, 'Plaid_Inc': 38, 'Randstad_Technologies_LLC': 39, 'RELX_Inc': 40, 'salesforce.com_inc': 41, 'SightSpan': 42, 'Slack_Technologies_Inc': 43, 'Smartly_Inc': 44, 'Total_Quality_Logistics': 45, 'Uber_Technologies_Inc': 46, 'ULINE': 47, 'WeWork_Companies_Inc_': 48, 'zoom': 49}\n"
     ]
    }
   ],
   "source": [
    "#path_of_dataset=input('Enter Path of Dataset to Begin: ')\n",
    "X,Y,map=prepare_all_dataset('../Dataset')#path_of_dataset)\n",
    "n_class=len(map)\n",
    "X=get_images_array(X)\n",
    "Y=np.asarray(Y)\n",
    "print(map)\n",
    "dump_load_map(map,0)\n",
    "#print(Y)\n",
    "\n",
    "Y=tf.keras.utils.to_categorical(\n",
    "    Y, num_classes=n_class, dtype='float32')\n",
    "\n",
    "\n",
    "class_weights=get_class_weights(Y)\n",
    "X_train,X_test,Y_train,Y_test=train_test_split(X,Y)"
   ]
  },
  {
   "attachments": {},
   "cell_type": "markdown",
   "metadata": {},
   "source": [
    "<h3> Creating Architecture of EffiicnetNetB0 </h3>"
   ]
  },
  {
   "cell_type": "code",
   "execution_count": 11,
   "metadata": {},
   "outputs": [],
   "source": [
    "def Custom_Efficient_Net(image_shape=X[0].shape,output_shape=n_class):\n",
    "    if 'Efficient_net_custom.h5' in os.listdir(os.getcwd()):\n",
    "        print('Loaded Previous Model ')\n",
    "        model=tf.keras.models.load_model('Efficient_net_custom.h5')\n",
    "    else: \n",
    "        input_val=tf.keras.layers.Input(shape=image_shape)\n",
    "        model=EfficientNetB0(include_top=False,input_tensor=input_val,weights='imagenet')\n",
    "\n",
    "        for i in range(int(len(model.layers) * 0.75)):\n",
    "            model.layers[i].trainable = False\n",
    "\n",
    "        #model.trainable = False\n",
    "\n",
    "\n",
    "        x = tf.keras.layers.GlobalAveragePooling2D(name=\"avg_pool\")(model.output)\n",
    "        x = tf.keras.layers.BatchNormalization()(x)\n",
    "\n",
    "        top_dropout_rate = 0.2\n",
    "        x = tf.keras.layers.Dropout(top_dropout_rate, name=\"top_dropout\")(x)\n",
    "        #x=tf.keras.layers.Flatten()\n",
    "        output = tf.keras.layers.Dense(output_shape, activation=\"softmax\", name=\"pred\")(x)\n",
    "\n",
    "        model=tf.keras.Model(inputs=input_val,outputs=output)\n",
    "    \n",
    "    model.compile(\n",
    "        optimizer=\"adam\", loss=\"categorical_crossentropy\", metrics=[\"accuracy\"])\n",
    "    return model\n",
    "\n",
    "custom_model=Custom_Efficient_Net()"
   ]
  },
  {
   "attachments": {},
   "cell_type": "markdown",
   "metadata": {},
   "source": [
    "<h3> Training The Model </h3>"
   ]
  },
  {
   "cell_type": "code",
   "execution_count": 12,
   "metadata": {},
   "outputs": [
    {
     "name": "stdout",
     "output_type": "stream",
     "text": [
      "Epoch 1/100\n",
      "11/11 [==============================] - 37s 3s/step - loss: 1.1100 - accuracy: 0.7883 - val_loss: 3.5096 - val_accuracy: 0.1013\n",
      "Epoch 2/100\n",
      "11/11 [==============================] - 33s 3s/step - loss: 0.0199 - accuracy: 0.9964 - val_loss: 3.0806 - val_accuracy: 0.1918\n",
      "Epoch 3/100\n",
      "11/11 [==============================] - 34s 3s/step - loss: 0.0091 - accuracy: 0.9986 - val_loss: 2.6782 - val_accuracy: 0.2823\n",
      "Epoch 4/100\n",
      "11/11 [==============================] - 34s 3s/step - loss: 0.0026 - accuracy: 1.0000 - val_loss: 2.2726 - val_accuracy: 0.3621\n",
      "Epoch 5/100\n",
      "11/11 [==============================] - 35s 3s/step - loss: 0.0106 - accuracy: 0.9978 - val_loss: 1.8233 - val_accuracy: 0.5453\n",
      "Epoch 6/100\n",
      "11/11 [==============================] - 34s 3s/step - loss: 0.0041 - accuracy: 0.9986 - val_loss: 1.3767 - val_accuracy: 0.6940\n",
      "Epoch 7/100\n",
      "11/11 [==============================] - 34s 3s/step - loss: 0.0037 - accuracy: 0.9986 - val_loss: 0.9953 - val_accuracy: 0.8858\n",
      "Epoch 8/100\n",
      "11/11 [==============================] - 35s 3s/step - loss: 0.0029 - accuracy: 1.0000 - val_loss: 0.6601 - val_accuracy: 0.9504\n",
      "Epoch 9/100\n",
      "11/11 [==============================] - 34s 3s/step - loss: 0.0033 - accuracy: 0.9993 - val_loss: 0.4208 - val_accuracy: 0.9784\n",
      "Epoch 10/100\n",
      "11/11 [==============================] - 34s 3s/step - loss: 0.0042 - accuracy: 0.9986 - val_loss: 0.2638 - val_accuracy: 0.9806\n",
      "Epoch 11/100\n",
      "11/11 [==============================] - 35s 3s/step - loss: 0.0022 - accuracy: 0.9993 - val_loss: 0.1685 - val_accuracy: 0.9914\n",
      "Epoch 12/100\n",
      "11/11 [==============================] - 33s 3s/step - loss: 0.0020 - accuracy: 0.9993 - val_loss: 0.1123 - val_accuracy: 0.9914\n",
      "Epoch 13/100\n",
      "11/11 [==============================] - 35s 3s/step - loss: 6.1189e-04 - accuracy: 1.0000 - val_loss: 0.0847 - val_accuracy: 0.9914\n",
      "Epoch 14/100\n",
      "11/11 [==============================] - 34s 3s/step - loss: 0.0010 - accuracy: 1.0000 - val_loss: 0.0678 - val_accuracy: 0.9914\n",
      "Epoch 15/100\n",
      "11/11 [==============================] - 35s 3s/step - loss: 4.2647e-04 - accuracy: 1.0000 - val_loss: 0.0580 - val_accuracy: 0.9914\n",
      "Epoch 16/100\n",
      "11/11 [==============================] - 35s 3s/step - loss: 0.0065 - accuracy: 0.9993 - val_loss: 0.0536 - val_accuracy: 0.9914\n",
      "Epoch 17/100\n",
      "11/11 [==============================] - 34s 3s/step - loss: 0.0100 - accuracy: 0.9993 - val_loss: 0.0518 - val_accuracy: 0.9914\n",
      "Epoch 18/100\n",
      "11/11 [==============================] - 36s 3s/step - loss: 9.1119e-04 - accuracy: 1.0000 - val_loss: 0.0497 - val_accuracy: 0.9892\n",
      "Epoch 19/100\n",
      "11/11 [==============================] - 33s 3s/step - loss: 9.0067e-04 - accuracy: 1.0000 - val_loss: 0.0479 - val_accuracy: 0.9892\n",
      "Epoch 20/100\n",
      "11/11 [==============================] - 35s 3s/step - loss: 0.0011 - accuracy: 0.9993 - val_loss: 0.0465 - val_accuracy: 0.9892\n",
      "Epoch 21/100\n",
      "11/11 [==============================] - 36s 3s/step - loss: 0.0030 - accuracy: 0.9993 - val_loss: 0.0461 - val_accuracy: 0.9892\n",
      "Epoch 22/100\n",
      "11/11 [==============================] - 35s 3s/step - loss: 4.6588e-04 - accuracy: 1.0000 - val_loss: 0.0462 - val_accuracy: 0.9892\n",
      "Epoch 23/100\n",
      "11/11 [==============================] - 35s 3s/step - loss: 3.8821e-04 - accuracy: 1.0000 - val_loss: 0.0462 - val_accuracy: 0.9892\n",
      "Epoch 24/100\n",
      "11/11 [==============================] - 34s 3s/step - loss: 1.7527e-04 - accuracy: 1.0000 - val_loss: 0.0462 - val_accuracy: 0.9892\n"
     ]
    }
   ],
   "source": [
    "callback = tf.keras.callbacks.EarlyStopping(patience=3, monitor='val_loss',mode='auto',restore_best_weights=True )\n",
    "hist=custom_model.fit(X_train,Y_train,validation_data=(X_test,Y_test),epochs=100,callbacks=[callback],batch_size=128,class_weight=class_weights)"
   ]
  },
  {
   "attachments": {},
   "cell_type": "markdown",
   "metadata": {},
   "source": [
    "<h3> Saving Model and plotting the graphs </h3>"
   ]
  },
  {
   "cell_type": "code",
   "execution_count": 13,
   "metadata": {},
   "outputs": [
    {
     "data": {
      "image/png": "[encoded data removed]",
      "text/plain": [
       "<Figure size 3000x1000 with 1 Axes>"
      ]
     },
     "metadata": {},
     "output_type": "display_data"
    },
    {
     "data": {
      "image/png": "[encoded data removed]",
      "text/plain": [
       "<Figure size 3000x1000 with 1 Axes>"
      ]
     },
     "metadata": {},
     "output_type": "display_data"
    }
   ],
   "source": [
    "custom_model.save('Efficient_net_custom.h5')\n",
    "plot_metrics_for_training(hist.history)"
   ]
  },
  {
   "cell_type": "code",
   "execution_count": 14,
   "metadata": {},
   "outputs": [
    {
     "name": "stdout",
     "output_type": "stream",
     "text": [
      "15/15 [==============================] - 7s 428ms/step\n",
      "              precision    recall  f1-score   support\n",
      "\n",
      "           0       1.00      1.00      1.00        10\n",
      "           1       1.00      1.00      1.00         7\n",
      "           2       1.00      1.00      1.00         9\n",
      "           3       1.00      1.00      1.00        30\n",
      "           4       1.00      1.00      1.00        11\n",
      "           5       1.00      1.00      1.00         6\n",
      "           6       1.00      0.67      0.80         3\n",
      "           7       0.88      1.00      0.93         7\n",
      "           8       1.00      1.00      1.00         7\n",
      "           9       1.00      1.00      1.00         7\n",
      "          10       1.00      1.00      1.00        16\n",
      "          11       1.00      1.00      1.00         9\n",
      "          12       1.00      0.86      0.92         7\n",
      "          13       1.00      1.00      1.00        18\n",
      "          14       1.00      1.00      1.00         6\n",
      "          15       1.00      1.00      1.00         4\n",
      "          16       1.00      1.00      1.00         6\n",
      "          17       1.00      0.94      0.97        16\n",
      "          18       1.00      1.00      1.00         4\n",
      "          19       1.00      1.00      1.00         4\n",
      "          20       1.00      1.00      1.00         6\n",
      "          21       1.00      1.00      1.00         1\n",
      "          22       1.00      1.00      1.00        14\n",
      "          23       1.00      1.00      1.00         5\n",
      "          24       1.00      1.00      1.00         9\n",
      "          25       1.00      1.00      1.00         8\n",
      "          26       0.88      1.00      0.94        15\n",
      "          27       0.93      1.00      0.96        13\n",
      "          28       1.00      0.88      0.93        16\n",
      "          29       1.00      1.00      1.00         7\n",
      "          30       1.00      1.00      1.00        11\n",
      "          31       1.00      1.00      1.00         4\n",
      "          32       1.00      1.00      1.00         4\n",
      "          33       1.00      1.00      1.00        11\n",
      "          34       1.00      1.00      1.00        15\n",
      "          35       1.00      1.00      1.00         6\n",
      "          36       1.00      1.00      1.00        14\n",
      "          37       1.00      1.00      1.00        10\n",
      "          38       1.00      1.00      1.00        13\n",
      "          39       1.00      1.00      1.00         9\n",
      "          40       1.00      1.00      1.00        17\n",
      "          41       1.00      1.00      1.00         4\n",
      "          42       1.00      1.00      1.00         6\n",
      "          43       0.90      1.00      0.95         9\n",
      "          44       1.00      1.00      1.00        13\n",
      "          45       1.00      1.00      1.00        11\n",
      "          46       1.00      1.00      1.00        12\n",
      "          47       1.00      1.00      1.00         7\n",
      "          48       1.00      1.00      1.00         5\n",
      "          49       1.00      1.00      1.00         2\n",
      "\n",
      "    accuracy                           0.99       464\n",
      "   macro avg       0.99      0.99      0.99       464\n",
      "weighted avg       0.99      0.99      0.99       464\n",
      "\n"
     ]
    }
   ],
   "source": [
    "Yverify=custom_model.predict(X_test)\n",
    "Yverify=np.argmax(Yverify,axis=1).reshape(-1,1)\n",
    "Yverify_ground_truth=np.argmax(Y_test,axis=1).reshape(-1,1)\n",
    "op=classification_report(Yverify_ground_truth,Yverify)\n",
    "print(op)"
   ]
  },
  {
   "attachments": {},
   "cell_type": "markdown",
   "metadata": {},
   "source": [
    "<h3> Inference testing </h3>\n",
    "\n"
   ]
  },
  {
   "cell_type": "code",
   "execution_count": 27,
   "metadata": {},
   "outputs": [
    {
     "name": "stdout",
     "output_type": "stream",
     "text": [
      "1/1 [==============================] - 1s 753ms/step\n",
      "0.99999976\n",
      "Aws\n"
     ]
    }
   ],
   "source": [
    "#D:\\Fuse_Work\\Glean_Experiments\\Dataset\\Medline\\01GH7C1RYM86F7JDQFJ1944V84.pdf\n",
    "loaded_model=tf.keras.models.load_model('Efficient_net_custom.h5')\n",
    "map=dump_load_map({},1)\n",
    "path_image=input('Enter PDF Path: ')\n",
    "test_img=inference_image_get(path_image)\n",
    "preds=loaded_model.predict(test_img.reshape(1,test_img.shape[0],test_img.shape[1],test_img.shape[2]))\n",
    "op=np.argmax(preds)\n",
    "print(list(preds[0])[op])\n",
    "if list(preds[0])[op]<=0.5:\n",
    "    print('This file belongs to none of the vendors ')\n",
    "else: \n",
    "    print(list(filter(lambda x: map[x] == op, map))[0])"
   ]
  },
  {
   "cell_type": "code",
   "execution_count": null,
   "metadata": {},
   "outputs": [],
   "source": []
  }
 ],
 "metadata": {
  "kernelspec": {
   "display_name": "MISC",
   "language": "python",
   "name": "python3"
  },
  "language_info": {
   "codemirror_mode": {
    "name": "ipython",
    "version": 3
   },
   "file_extension": ".py",
   "mimetype": "text/x-python",
   "name": "python",
   "nbconvert_exporter": "python",
   "pygments_lexer": "ipython3",
   "version": "3.10.9"
  },
  "orig_nbformat": 4
 },
 "nbformat": 4,
 "nbformat_minor": 2
}
