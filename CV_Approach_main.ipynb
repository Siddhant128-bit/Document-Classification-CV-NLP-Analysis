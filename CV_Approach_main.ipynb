{
 "cells": [
  {
   "attachments": {},
   "cell_type": "markdown",
   "metadata": {},
   "source": [
    "<h1 align='center'> Glean CV Approach </h1>\n",
    "We are going to see how we can try Computer Vision Approach to Classify various vendors. The idea is to use EfficientNetB0 to train on the images of first pages of all pdf documents."
   ]
  },
  {
   "cell_type": "code",
   "execution_count": 12,
   "metadata": {},
   "outputs": [],
   "source": [
    "from utilities import *\n",
    "from PIL import Image\n",
    "import tensorflow as tf\n",
    "from keras.applications.efficientnet import EfficientNetB0\n",
    "from sklearn.model_selection import train_test_split\n",
    "from sklearn.utils.class_weight import compute_class_weight\n",
    "from sklearn.metrics import classification_report\n"
   ]
  },
  {
   "attachments": {},
   "cell_type": "markdown",
   "metadata": {},
   "source": [
    "<h3> Getting Dataset </h3>\n",
    "\n",
    "Initially our files are present as pdf we are going to conver them into images. We are taking the  first page of each pdf file and using it to get the image from that page and going to train only on those  "
   ]
  },
  {
   "cell_type": "code",
   "execution_count": 2,
   "metadata": {},
   "outputs": [
    {
     "name": "stdout",
     "output_type": "stream",
     "text": [
      "Here are vendors: ['../Dataset_1/ADP_LLC', '../Dataset_1/Align_Technology_Inc', '../Dataset_1/ALLIANCE_VANTAGE_LIMITED', '../Dataset_1/Amazon_Business', '../Dataset_1/Apple_Inc (invoices)', '../Dataset_1/apple_search_ads', '../Dataset_1/Avenue_Logistics', '../Dataset_1/Aws', '../Dataset_1/AXLE_LOGISTICS', '../Dataset_1/Bacon_Work', '../Dataset_1/CDW_Direct', '../Dataset_1/CLEARFREIGHT_INC', '../Dataset_1/Cooley_LLP', '../Dataset_1/CSC', '../Dataset_1/Datadog', '../Dataset_1/DHL_eCommerce', '../Dataset_1/Electric_Al_Inc', '../Dataset_1/Employee_Benefits_Corporation', '../Dataset_1/Equifax_Information_SVCS_LLC', '../Dataset_1/esendex', '../Dataset_1/Facebook_Inc', '../Dataset_1/FedEx', '../Dataset_1/Freshworks_Inc_', '../Dataset_1/Github', '../Dataset_1/Glean_Analytics_Inc', '../Dataset_1/Goodwin_Procter_LLP', '../Dataset_1/google_llc', '../Dataset_1/Gowling_WLG_(Canada)_LLP', '../Dataset_1/Hubspot', '../Dataset_1/Lindenmeyr_Munroe', '../Dataset_1/LinkedIn_Corporation', '../Dataset_1/MainStreet_Work_Inc', '../Dataset_1/Maples_and_Calder_LLP', '../Dataset_1/Marcum_LLP', '../Dataset_1/Medline', '../Dataset_1/Microsoft_Corporation', '../Dataset_1/Perfect_Plastic_Printing_Corporation', '../Dataset_1/Plaid_Inc', '../Dataset_1/Randstad_Technologies_LLC', '../Dataset_1/RELX_Inc', '../Dataset_1/salesforce.com_inc', '../Dataset_1/SightSpan', '../Dataset_1/Slack_Technologies_Inc', '../Dataset_1/Smartly_Inc', '../Dataset_1/Total_Quality_Logistics', '../Dataset_1/Uber_Technologies_Inc', '../Dataset_1/ULINE', '../Dataset_1/WeWork_Companies_Inc_', '../Dataset_1/zoom']\n",
      "\n",
      "ADP_LLC vendor Processing \n"
     ]
    },
    {
     "name": "stderr",
     "output_type": "stream",
     "text": [
      "dirs: 100%|██████████| 94/94 [00:00<00:00, 146.51it/s]\n"
     ]
    },
    {
     "name": "stdout",
     "output_type": "stream",
     "text": [
      "\n",
      "Align_Technology_Inc vendor Processing \n"
     ]
    },
    {
     "name": "stderr",
     "output_type": "stream",
     "text": [
      "dirs: 100%|██████████| 47/47 [00:00<00:00, 135.93it/s]\n"
     ]
    },
    {
     "name": "stdout",
     "output_type": "stream",
     "text": [
      "\n",
      "ALLIANCE_VANTAGE_LIMITED vendor Processing \n"
     ]
    },
    {
     "name": "stderr",
     "output_type": "stream",
     "text": [
      "dirs: 100%|██████████| 40/40 [00:00<00:00, 119.34it/s]\n"
     ]
    },
    {
     "name": "stdout",
     "output_type": "stream",
     "text": [
      "\n",
      "Amazon_Business vendor Processing \n"
     ]
    },
    {
     "name": "stderr",
     "output_type": "stream",
     "text": [
      "dirs: 100%|██████████| 251/251 [00:02<00:00, 121.80it/s]\n"
     ]
    },
    {
     "name": "stdout",
     "output_type": "stream",
     "text": [
      "\n",
      "Apple_Inc (invoices) vendor Processing \n"
     ]
    },
    {
     "name": "stderr",
     "output_type": "stream",
     "text": [
      "dirs: 100%|██████████| 83/83 [00:00<00:00, 135.34it/s]\n"
     ]
    },
    {
     "name": "stdout",
     "output_type": "stream",
     "text": [
      "\n",
      "apple_search_ads vendor Processing \n"
     ]
    },
    {
     "name": "stderr",
     "output_type": "stream",
     "text": [
      "dirs: 100%|██████████| 43/43 [00:00<00:00, 147.28it/s]\n"
     ]
    },
    {
     "name": "stdout",
     "output_type": "stream",
     "text": [
      "\n",
      "Avenue_Logistics vendor Processing \n"
     ]
    },
    {
     "name": "stderr",
     "output_type": "stream",
     "text": [
      "dirs: 100%|██████████| 58/58 [00:00<00:00, 125.85it/s]\n"
     ]
    },
    {
     "name": "stdout",
     "output_type": "stream",
     "text": [
      "\n",
      "Aws vendor Processing \n"
     ]
    },
    {
     "name": "stderr",
     "output_type": "stream",
     "text": [
      "dirs: 100%|██████████| 49/49 [00:00<00:00, 94.12it/s]\n"
     ]
    },
    {
     "name": "stdout",
     "output_type": "stream",
     "text": [
      "\n",
      "AXLE_LOGISTICS vendor Processing \n"
     ]
    },
    {
     "name": "stderr",
     "output_type": "stream",
     "text": [
      "dirs: 100%|██████████| 100/100 [00:00<00:00, 139.92it/s]\n"
     ]
    },
    {
     "name": "stdout",
     "output_type": "stream",
     "text": [
      "\n",
      "Bacon_Work vendor Processing \n"
     ]
    },
    {
     "name": "stderr",
     "output_type": "stream",
     "text": [
      "dirs: 100%|██████████| 100/100 [00:00<00:00, 106.65it/s]\n"
     ]
    },
    {
     "name": "stdout",
     "output_type": "stream",
     "text": [
      "\n",
      "CDW_Direct vendor Processing \n"
     ]
    },
    {
     "name": "stderr",
     "output_type": "stream",
     "text": [
      "dirs: 100%|██████████| 102/102 [00:00<00:00, 116.52it/s]\n"
     ]
    },
    {
     "name": "stdout",
     "output_type": "stream",
     "text": [
      "\n",
      "CLEARFREIGHT_INC vendor Processing \n"
     ]
    },
    {
     "name": "stderr",
     "output_type": "stream",
     "text": [
      "dirs: 100%|██████████| 51/51 [00:00<00:00, 82.76it/s]\n"
     ]
    },
    {
     "name": "stdout",
     "output_type": "stream",
     "text": [
      "\n",
      "Cooley_LLP vendor Processing \n"
     ]
    },
    {
     "name": "stderr",
     "output_type": "stream",
     "text": [
      "dirs: 100%|██████████| 100/100 [00:00<00:00, 148.91it/s]\n"
     ]
    },
    {
     "name": "stdout",
     "output_type": "stream",
     "text": [
      "\n",
      "CSC vendor Processing \n"
     ]
    },
    {
     "name": "stderr",
     "output_type": "stream",
     "text": [
      "dirs: 100%|██████████| 53/53 [00:00<00:00, 98.40it/s] \n"
     ]
    },
    {
     "name": "stdout",
     "output_type": "stream",
     "text": [
      "\n",
      "Datadog vendor Processing \n"
     ]
    },
    {
     "name": "stderr",
     "output_type": "stream",
     "text": [
      "dirs: 100%|██████████| 43/43 [00:00<00:00, 104.23it/s]\n"
     ]
    },
    {
     "name": "stdout",
     "output_type": "stream",
     "text": [
      "\n",
      "DHL_eCommerce vendor Processing \n"
     ]
    },
    {
     "name": "stderr",
     "output_type": "stream",
     "text": [
      "dirs: 100%|██████████| 89/89 [00:00<00:00, 151.95it/s]\n"
     ]
    },
    {
     "name": "stdout",
     "output_type": "stream",
     "text": [
      "\n",
      "Electric_Al_Inc vendor Processing \n"
     ]
    },
    {
     "name": "stderr",
     "output_type": "stream",
     "text": [
      "dirs: 100%|██████████| 97/97 [00:00<00:00, 126.14it/s]\n"
     ]
    },
    {
     "name": "stdout",
     "output_type": "stream",
     "text": [
      "\n",
      "Employee_Benefits_Corporation vendor Processing \n"
     ]
    },
    {
     "name": "stderr",
     "output_type": "stream",
     "text": [
      "dirs: 100%|██████████| 50/50 [00:00<00:00, 145.87it/s]\n"
     ]
    },
    {
     "name": "stdout",
     "output_type": "stream",
     "text": [
      "\n",
      "Equifax_Information_SVCS_LLC vendor Processing \n"
     ]
    },
    {
     "name": "stderr",
     "output_type": "stream",
     "text": [
      "dirs: 100%|██████████| 62/62 [00:00<00:00, 109.15it/s]\n"
     ]
    },
    {
     "name": "stdout",
     "output_type": "stream",
     "text": [
      "\n",
      "esendex vendor Processing \n"
     ]
    },
    {
     "name": "stderr",
     "output_type": "stream",
     "text": [
      "dirs: 100%|██████████| 28/28 [00:00<00:00, 109.50it/s]\n"
     ]
    },
    {
     "name": "stdout",
     "output_type": "stream",
     "text": [
      "\n",
      "Facebook_Inc vendor Processing \n"
     ]
    },
    {
     "name": "stderr",
     "output_type": "stream",
     "text": [
      "dirs: 100%|██████████| 17/17 [00:00<00:00, 136.01it/s]\n"
     ]
    },
    {
     "name": "stdout",
     "output_type": "stream",
     "text": [
      "\n",
      "FedEx vendor Processing \n"
     ]
    },
    {
     "name": "stderr",
     "output_type": "stream",
     "text": [
      "dirs: 100%|██████████| 102/102 [00:00<00:00, 103.02it/s]\n"
     ]
    },
    {
     "name": "stdout",
     "output_type": "stream",
     "text": [
      "\n",
      "Freshworks_Inc_ vendor Processing \n"
     ]
    },
    {
     "name": "stderr",
     "output_type": "stream",
     "text": [
      "dirs: 100%|██████████| 36/36 [00:00<00:00, 124.67it/s]\n"
     ]
    },
    {
     "name": "stdout",
     "output_type": "stream",
     "text": [
      "\n",
      "Github vendor Processing \n"
     ]
    },
    {
     "name": "stderr",
     "output_type": "stream",
     "text": [
      "dirs: 100%|██████████| 55/55 [00:00<00:00, 133.88it/s]\n"
     ]
    },
    {
     "name": "stdout",
     "output_type": "stream",
     "text": [
      "\n",
      "Glean_Analytics_Inc vendor Processing \n"
     ]
    },
    {
     "name": "stderr",
     "output_type": "stream",
     "text": [
      "dirs: 100%|██████████| 68/68 [00:00<00:00, 121.40it/s]\n"
     ]
    },
    {
     "name": "stdout",
     "output_type": "stream",
     "text": [
      "\n",
      "Goodwin_Procter_LLP vendor Processing \n"
     ]
    },
    {
     "name": "stderr",
     "output_type": "stream",
     "text": [
      "dirs: 100%|██████████| 103/103 [00:00<00:00, 117.99it/s]\n"
     ]
    },
    {
     "name": "stdout",
     "output_type": "stream",
     "text": [
      "\n",
      "google_llc vendor Processing \n"
     ]
    },
    {
     "name": "stderr",
     "output_type": "stream",
     "text": [
      "dirs: 100%|██████████| 90/90 [00:00<00:00, 136.93it/s]\n"
     ]
    },
    {
     "name": "stdout",
     "output_type": "stream",
     "text": [
      "\n",
      "Gowling_WLG_(Canada)_LLP vendor Processing \n"
     ]
    },
    {
     "name": "stderr",
     "output_type": "stream",
     "text": [
      "dirs: 100%|██████████| 95/95 [00:00<00:00, 115.39it/s]\n"
     ]
    },
    {
     "name": "stdout",
     "output_type": "stream",
     "text": [
      "\n",
      "Hubspot vendor Processing \n"
     ]
    },
    {
     "name": "stderr",
     "output_type": "stream",
     "text": [
      "dirs: 100%|██████████| 37/37 [00:00<00:00, 142.40it/s]\n"
     ]
    },
    {
     "name": "stdout",
     "output_type": "stream",
     "text": [
      "\n",
      "Lindenmeyr_Munroe vendor Processing \n"
     ]
    },
    {
     "name": "stderr",
     "output_type": "stream",
     "text": [
      "dirs: 100%|██████████| 62/62 [00:02<00:00, 23.96it/s]\n"
     ]
    },
    {
     "name": "stdout",
     "output_type": "stream",
     "text": [
      "\n",
      "LinkedIn_Corporation vendor Processing \n"
     ]
    },
    {
     "name": "stderr",
     "output_type": "stream",
     "text": [
      "dirs: 100%|██████████| 50/50 [00:00<00:00, 114.13it/s]\n"
     ]
    },
    {
     "name": "stdout",
     "output_type": "stream",
     "text": [
      "\n",
      "MainStreet_Work_Inc vendor Processing \n"
     ]
    },
    {
     "name": "stderr",
     "output_type": "stream",
     "text": [
      "dirs: 100%|██████████| 73/73 [00:00<00:00, 149.05it/s]\n"
     ]
    },
    {
     "name": "stdout",
     "output_type": "stream",
     "text": [
      "\n",
      "Maples_and_Calder_LLP vendor Processing \n"
     ]
    },
    {
     "name": "stderr",
     "output_type": "stream",
     "text": [
      "dirs: 100%|██████████| 103/103 [00:00<00:00, 106.52it/s]\n"
     ]
    },
    {
     "name": "stdout",
     "output_type": "stream",
     "text": [
      "\n",
      "Marcum_LLP vendor Processing \n"
     ]
    },
    {
     "name": "stderr",
     "output_type": "stream",
     "text": [
      "dirs: 100%|██████████| 101/101 [00:00<00:00, 130.19it/s]\n"
     ]
    },
    {
     "name": "stdout",
     "output_type": "stream",
     "text": [
      "\n",
      "Medline vendor Processing \n"
     ]
    },
    {
     "name": "stderr",
     "output_type": "stream",
     "text": [
      "dirs: 100%|██████████| 68/68 [00:00<00:00, 118.52it/s]\n"
     ]
    },
    {
     "name": "stdout",
     "output_type": "stream",
     "text": [
      "\n",
      "Microsoft_Corporation vendor Processing \n"
     ]
    },
    {
     "name": "stderr",
     "output_type": "stream",
     "text": [
      "dirs: 100%|██████████| 96/96 [00:00<00:00, 115.89it/s]\n"
     ]
    },
    {
     "name": "stdout",
     "output_type": "stream",
     "text": [
      "\n",
      "Perfect_Plastic_Printing_Corporation vendor Processing \n"
     ]
    },
    {
     "name": "stderr",
     "output_type": "stream",
     "text": [
      "dirs: 100%|██████████| 55/55 [00:00<00:00, 102.80it/s]\n"
     ]
    },
    {
     "name": "stdout",
     "output_type": "stream",
     "text": [
      "\n",
      "Plaid_Inc vendor Processing \n"
     ]
    },
    {
     "name": "stderr",
     "output_type": "stream",
     "text": [
      "dirs: 100%|██████████| 100/100 [00:00<00:00, 143.77it/s]\n"
     ]
    },
    {
     "name": "stdout",
     "output_type": "stream",
     "text": [
      "\n",
      "Randstad_Technologies_LLC vendor Processing \n"
     ]
    },
    {
     "name": "stderr",
     "output_type": "stream",
     "text": [
      "dirs: 100%|██████████| 100/100 [00:00<00:00, 136.01it/s]\n"
     ]
    },
    {
     "name": "stdout",
     "output_type": "stream",
     "text": [
      "\n",
      "RELX_Inc vendor Processing \n"
     ]
    },
    {
     "name": "stderr",
     "output_type": "stream",
     "text": [
      "dirs: 100%|██████████| 132/132 [00:01<00:00, 119.37it/s]\n"
     ]
    },
    {
     "name": "stdout",
     "output_type": "stream",
     "text": [
      "\n",
      "salesforce.com_inc vendor Processing \n"
     ]
    },
    {
     "name": "stderr",
     "output_type": "stream",
     "text": [
      "dirs: 100%|██████████| 53/53 [00:00<00:00, 138.08it/s]\n"
     ]
    },
    {
     "name": "stdout",
     "output_type": "stream",
     "text": [
      "\n",
      "SightSpan vendor Processing \n"
     ]
    },
    {
     "name": "stderr",
     "output_type": "stream",
     "text": [
      "dirs: 100%|██████████| 40/40 [00:00<00:00, 127.25it/s]\n"
     ]
    },
    {
     "name": "stdout",
     "output_type": "stream",
     "text": [
      "\n",
      "Slack_Technologies_Inc vendor Processing \n"
     ]
    },
    {
     "name": "stderr",
     "output_type": "stream",
     "text": [
      "dirs: 100%|██████████| 51/51 [00:00<00:00, 154.67it/s]\n"
     ]
    },
    {
     "name": "stdout",
     "output_type": "stream",
     "text": [
      "\n",
      "Smartly_Inc vendor Processing \n"
     ]
    },
    {
     "name": "stderr",
     "output_type": "stream",
     "text": [
      "dirs: 100%|██████████| 100/100 [00:00<00:00, 121.40it/s]\n"
     ]
    },
    {
     "name": "stdout",
     "output_type": "stream",
     "text": [
      "\n",
      "Total_Quality_Logistics vendor Processing \n"
     ]
    },
    {
     "name": "stderr",
     "output_type": "stream",
     "text": [
      "dirs: 100%|██████████| 100/100 [00:01<00:00, 68.81it/s]\n"
     ]
    },
    {
     "name": "stdout",
     "output_type": "stream",
     "text": [
      "\n",
      "Uber_Technologies_Inc vendor Processing \n"
     ]
    },
    {
     "name": "stderr",
     "output_type": "stream",
     "text": [
      "dirs: 100%|██████████| 52/52 [00:00<00:00, 143.59it/s]\n"
     ]
    },
    {
     "name": "stdout",
     "output_type": "stream",
     "text": [
      "\n",
      "ULINE vendor Processing \n"
     ]
    },
    {
     "name": "stderr",
     "output_type": "stream",
     "text": [
      "dirs: 100%|██████████| 101/101 [00:00<00:00, 104.02it/s]\n"
     ]
    },
    {
     "name": "stdout",
     "output_type": "stream",
     "text": [
      "\n",
      "WeWork_Companies_Inc_ vendor Processing \n"
     ]
    },
    {
     "name": "stderr",
     "output_type": "stream",
     "text": [
      "dirs: 100%|██████████| 35/35 [00:00<00:00, 129.51it/s]\n"
     ]
    },
    {
     "name": "stdout",
     "output_type": "stream",
     "text": [
      "\n",
      "zoom vendor Processing \n"
     ]
    },
    {
     "name": "stderr",
     "output_type": "stream",
     "text": [
      "dirs: 100%|██████████| 36/36 [00:00<00:00, 135.60it/s]\n"
     ]
    },
    {
     "name": "stdout",
     "output_type": "stream",
     "text": [
      "{'ADP_LLC': 0, 'Align_Technology_Inc': 1, 'ALLIANCE_VANTAGE_LIMITED': 2, 'Amazon_Business': 3, 'Apple_Inc (invoices)': 4, 'apple_search_ads': 5, 'Avenue_Logistics': 6, 'Aws': 7, 'AXLE_LOGISTICS': 8, 'Bacon_Work': 9, 'CDW_Direct': 10, 'CLEARFREIGHT_INC': 11, 'Cooley_LLP': 12, 'CSC': 13, 'Datadog': 14, 'DHL_eCommerce': 15, 'Electric_Al_Inc': 16, 'Employee_Benefits_Corporation': 17, 'Equifax_Information_SVCS_LLC': 18, 'esendex': 19, 'Facebook_Inc': 20, 'FedEx': 21, 'Freshworks_Inc_': 22, 'Github': 23, 'Glean_Analytics_Inc': 24, 'Goodwin_Procter_LLP': 25, 'google_llc': 26, 'Gowling_WLG_(Canada)_LLP': 27, 'Hubspot': 28, 'Lindenmeyr_Munroe': 29, 'LinkedIn_Corporation': 30, 'MainStreet_Work_Inc': 31, 'Maples_and_Calder_LLP': 32, 'Marcum_LLP': 33, 'Medline': 34, 'Microsoft_Corporation': 35, 'Perfect_Plastic_Printing_Corporation': 36, 'Plaid_Inc': 37, 'Randstad_Technologies_LLC': 38, 'RELX_Inc': 39, 'salesforce.com_inc': 40, 'SightSpan': 41, 'Slack_Technologies_Inc': 42, 'Smartly_Inc': 43, 'Total_Quality_Logistics': 44, 'Uber_Technologies_Inc': 45, 'ULINE': 46, 'WeWork_Companies_Inc_': 47, 'zoom': 48}\n"
     ]
    }
   ],
   "source": [
    "#path_of_dataset=input('Enter Path of Dataset to Begin: ')\n",
    "X,Y,map=prepare_all_dataset('../Dataset_1')#path_of_dataset)\n",
    "n_class=len(map)\n",
    "X=get_images_array(X)\n",
    "Y=np.asarray(Y)\n",
    "print(map)\n",
    "dump_load_map(map,0)\n",
    "#print(Y)\n",
    "\n",
    "Y=tf.keras.utils.to_categorical(\n",
    "    Y, num_classes=n_class, dtype='float32')\n",
    "\n",
    "\n",
    "class_weights=get_class_weights(Y)\n",
    "X_train,X_test,Y_train,Y_test=train_test_split(X,Y)"
   ]
  },
  {
   "attachments": {},
   "cell_type": "markdown",
   "metadata": {},
   "source": [
    "<h3> Creating Architecture of EffiicnetNetB0 </h3>"
   ]
  },
  {
   "cell_type": "code",
   "execution_count": 3,
   "metadata": {},
   "outputs": [],
   "source": [
    "def Custom_Efficient_Net(image_shape=X[0].shape,output_shape=n_class):\n",
    "    if 'Efficient_net_custom.h5' in os.listdir(os.getcwd()):\n",
    "        print('Loaded Previous Model ')\n",
    "        model=tf.keras.models.load_model('Efficient_net_custom.h5')\n",
    "    else: \n",
    "        input_val=tf.keras.layers.Input(shape=image_shape)\n",
    "        model=EfficientNetB0(include_top=False,input_tensor=input_val,weights='imagenet')\n",
    "\n",
    "        for i in range(int(len(model.layers) * 0.75)):\n",
    "            model.layers[i].trainable = False\n",
    "\n",
    "        #model.trainable = False\n",
    "\n",
    "\n",
    "        x = tf.keras.layers.GlobalAveragePooling2D(name=\"avg_pool\")(model.output)\n",
    "        x = tf.keras.layers.BatchNormalization()(x)\n",
    "\n",
    "        top_dropout_rate = 0.2\n",
    "        x = tf.keras.layers.Dropout(top_dropout_rate, name=\"top_dropout\")(x)\n",
    "        #x=tf.keras.layers.Flatten()\n",
    "        output = tf.keras.layers.Dense(output_shape, activation=\"softmax\", name=\"pred\")(x)\n",
    "\n",
    "        model=tf.keras.Model(inputs=input_val,outputs=output)\n",
    "    \n",
    "    model.compile(\n",
    "        optimizer=\"adam\", loss=\"categorical_crossentropy\", metrics=[\"accuracy\"])\n",
    "    return model\n",
    "\n",
    "custom_model=Custom_Efficient_Net()"
   ]
  },
  {
   "attachments": {},
   "cell_type": "markdown",
   "metadata": {},
   "source": [
    "<h3> Training The Model </h3>"
   ]
  },
  {
   "cell_type": "code",
   "execution_count": 4,
   "metadata": {},
   "outputs": [
    {
     "name": "stdout",
     "output_type": "stream",
     "text": [
      "Epoch 1/100\n",
      "11/11 [==============================] - 35s 3s/step - loss: 1.0516 - accuracy: 0.7902 - val_loss: 3.5533 - val_accuracy: 0.0835\n",
      "Epoch 2/100\n",
      "11/11 [==============================] - 32s 3s/step - loss: 0.0313 - accuracy: 0.9919 - val_loss: 3.1381 - val_accuracy: 0.1363\n",
      "Epoch 3/100\n",
      "11/11 [==============================] - 32s 3s/step - loss: 0.0077 - accuracy: 0.9985 - val_loss: 2.7314 - val_accuracy: 0.2264\n",
      "Epoch 4/100\n",
      "11/11 [==============================] - 33s 3s/step - loss: 0.0042 - accuracy: 1.0000 - val_loss: 2.2893 - val_accuracy: 0.3824\n",
      "Epoch 5/100\n",
      "11/11 [==============================] - 32s 3s/step - loss: 0.0030 - accuracy: 1.0000 - val_loss: 1.8641 - val_accuracy: 0.6505\n",
      "Epoch 6/100\n",
      "11/11 [==============================] - 36s 3s/step - loss: 0.0016 - accuracy: 1.0000 - val_loss: 1.4622 - val_accuracy: 0.8286\n",
      "Epoch 7/100\n",
      "11/11 [==============================] - 36s 3s/step - loss: 9.5168e-04 - accuracy: 1.0000 - val_loss: 1.0967 - val_accuracy: 0.8967\n",
      "Epoch 8/100\n",
      "11/11 [==============================] - 34s 3s/step - loss: 0.0029 - accuracy: 0.9993 - val_loss: 0.7933 - val_accuracy: 0.9626\n",
      "Epoch 9/100\n",
      "11/11 [==============================] - 34s 3s/step - loss: 5.0616e-04 - accuracy: 1.0000 - val_loss: 0.5467 - val_accuracy: 0.9890\n",
      "Epoch 10/100\n",
      "11/11 [==============================] - 35s 3s/step - loss: 7.9645e-04 - accuracy: 1.0000 - val_loss: 0.3659 - val_accuracy: 0.9956\n",
      "Epoch 11/100\n",
      "11/11 [==============================] - 35s 3s/step - loss: 0.0017 - accuracy: 1.0000 - val_loss: 0.2454 - val_accuracy: 0.9956\n",
      "Epoch 12/100\n",
      "11/11 [==============================] - 36s 3s/step - loss: 0.0017 - accuracy: 1.0000 - val_loss: 0.1613 - val_accuracy: 0.9956\n",
      "Epoch 13/100\n",
      "11/11 [==============================] - 36s 3s/step - loss: 0.0010 - accuracy: 0.9993 - val_loss: 0.1098 - val_accuracy: 0.9956\n",
      "Epoch 14/100\n",
      "11/11 [==============================] - 35s 3s/step - loss: 2.0907e-04 - accuracy: 1.0000 - val_loss: 0.0750 - val_accuracy: 0.9956\n",
      "Epoch 15/100\n",
      "11/11 [==============================] - 35s 3s/step - loss: 0.0059 - accuracy: 0.9985 - val_loss: 0.0532 - val_accuracy: 0.9956\n",
      "Epoch 16/100\n",
      "11/11 [==============================] - 38s 4s/step - loss: 0.0016 - accuracy: 1.0000 - val_loss: 0.0413 - val_accuracy: 0.9912\n",
      "Epoch 17/100\n",
      "11/11 [==============================] - 40s 4s/step - loss: 0.0057 - accuracy: 0.9993 - val_loss: 0.0274 - val_accuracy: 0.9956\n",
      "Epoch 18/100\n",
      "11/11 [==============================] - 38s 4s/step - loss: 2.6083e-04 - accuracy: 1.0000 - val_loss: 0.0221 - val_accuracy: 0.9956\n",
      "Epoch 19/100\n",
      "11/11 [==============================] - 39s 4s/step - loss: 4.6824e-04 - accuracy: 1.0000 - val_loss: 0.0189 - val_accuracy: 0.9956\n",
      "Epoch 20/100\n",
      "11/11 [==============================] - 39s 4s/step - loss: 4.9864e-04 - accuracy: 1.0000 - val_loss: 0.0171 - val_accuracy: 0.9956\n",
      "Epoch 21/100\n",
      "11/11 [==============================] - 35s 3s/step - loss: 2.3538e-04 - accuracy: 1.0000 - val_loss: 0.0160 - val_accuracy: 0.9956\n",
      "Epoch 22/100\n",
      "11/11 [==============================] - 35s 3s/step - loss: 0.0016 - accuracy: 0.9993 - val_loss: 0.0155 - val_accuracy: 0.9956\n",
      "Epoch 23/100\n",
      "11/11 [==============================] - 37s 3s/step - loss: 6.6766e-04 - accuracy: 1.0000 - val_loss: 0.0160 - val_accuracy: 0.9956\n",
      "Epoch 24/100\n",
      "11/11 [==============================] - 36s 3s/step - loss: 0.0030 - accuracy: 0.9993 - val_loss: 0.0152 - val_accuracy: 0.9956\n",
      "Epoch 25/100\n",
      "11/11 [==============================] - 39s 4s/step - loss: 3.2579e-04 - accuracy: 1.0000 - val_loss: 0.0149 - val_accuracy: 0.9956\n",
      "Epoch 26/100\n",
      "11/11 [==============================] - 40s 4s/step - loss: 2.3460e-04 - accuracy: 1.0000 - val_loss: 0.0148 - val_accuracy: 0.9956\n",
      "Epoch 27/100\n",
      "11/11 [==============================] - 38s 4s/step - loss: 6.0660e-04 - accuracy: 1.0000 - val_loss: 0.0148 - val_accuracy: 0.9956\n",
      "Epoch 28/100\n",
      "11/11 [==============================] - 39s 4s/step - loss: 5.9837e-04 - accuracy: 1.0000 - val_loss: 0.0153 - val_accuracy: 0.9956\n",
      "Epoch 29/100\n",
      "11/11 [==============================] - 40s 4s/step - loss: 1.0675e-04 - accuracy: 1.0000 - val_loss: 0.0154 - val_accuracy: 0.9956\n"
     ]
    }
   ],
   "source": [
    "callback = tf.keras.callbacks.EarlyStopping(patience=3, monitor='val_loss',mode='auto',restore_best_weights=True )\n",
    "hist=custom_model.fit(X_train,Y_train,validation_data=(X_test,Y_test),epochs=100,callbacks=[callback],batch_size=128,class_weight=class_weights)"
   ]
  },
  {
   "attachments": {},
   "cell_type": "markdown",
   "metadata": {},
   "source": [
    "<h3> Saving Model and plotting the graphs </h3>"
   ]
  },
  {
   "cell_type": "code",
   "execution_count": 5,
   "metadata": {},
   "outputs": [
    {
     "data": {
      "image/png": "[encoded data removed]",
      "text/plain": [
       "<Figure size 3000x1000 with 1 Axes>"
      ]
     },
     "metadata": {},
     "output_type": "display_data"
    },
    {
     "data": {
      "image/png": "[encoded data removed]",
      "text/plain": [
       "<Figure size 3000x1000 with 1 Axes>"
      ]
     },
     "metadata": {},
     "output_type": "display_data"
    }
   ],
   "source": [
    "custom_model.save('Efficient_net_custom.h5')\n",
    "plot_metrics_for_training(hist.history)"
   ]
  },
  {
   "cell_type": "code",
   "execution_count": 16,
   "metadata": {},
   "outputs": [
    {
     "name": "stdout",
     "output_type": "stream",
     "text": [
      "15/15 [==============================] - 7s 460ms/step\n"
     ]
    },
    {
     "data": {
      "text/plain": [
       "'              precision    recall  f1-score   support\\n\\n           0       1.00      1.00      1.00        12\\n           1       1.00      1.00      1.00         8\\n           2       1.00      1.00      1.00         4\\n           3       1.00      1.00      1.00        29\\n           4       1.00      1.00      1.00        10\\n           5       1.00      1.00      1.00         6\\n           6       0.86      1.00      0.92         6\\n           7       1.00      1.00      1.00         5\\n           8       1.00      1.00      1.00        11\\n           9       1.00      1.00      1.00        10\\n          10       1.00      1.00      1.00        13\\n          11       1.00      1.00      1.00         7\\n          12       1.00      1.00      1.00        12\\n          13       1.00      1.00      1.00        10\\n          14       1.00      1.00      1.00         9\\n          15       1.00      1.00      1.00        14\\n          16       1.00      0.94      0.97        16\\n          17       1.00      1.00      1.00         6\\n          18       1.00      1.00      1.00         9\\n          19       1.00      1.00      1.00         5\\n          20       1.00      1.00      1.00         3\\n          21       1.00      1.00      1.00        12\\n          22       1.00      1.00      1.00         6\\n          23       1.00      1.00      1.00         7\\n          24       1.00      1.00      1.00        10\\n          25       0.93      1.00      0.97        14\\n          26       1.00      1.00      1.00         6\\n          27       1.00      0.92      0.96        13\\n          28       1.00      1.00      1.00         3\\n          29       1.00      1.00      1.00        10\\n          30       1.00      1.00      1.00         5\\n          31       1.00      1.00      1.00         9\\n          32       1.00      1.00      1.00        11\\n          33       1.00      1.00      1.00        16\\n          34       1.00      1.00      1.00         8\\n          35       1.00      1.00      1.00        12\\n          36       1.00      1.00      1.00        10\\n          37       1.00      1.00      1.00         9\\n          38       1.00      1.00      1.00        15\\n          39       1.00      1.00      1.00        12\\n          40       1.00      1.00      1.00         8\\n          41       1.00      1.00      1.00         6\\n          42       1.00      1.00      1.00         5\\n          43       1.00      1.00      1.00        13\\n          44       1.00      1.00      1.00         7\\n          45       1.00      1.00      1.00         4\\n          46       1.00      1.00      1.00        11\\n          47       1.00      1.00      1.00         3\\n          48       1.00      1.00      1.00         5\\n\\n    accuracy                           1.00       455\\n   macro avg       1.00      1.00      1.00       455\\nweighted avg       1.00      1.00      1.00       455\\n'"
      ]
     },
     "execution_count": 16,
     "metadata": {},
     "output_type": "execute_result"
    }
   ],
   "source": [
    "Yverify=custom_model.predict(X_test)\n",
    "Yverify=np.argmax(Yverify,axis=1).reshape(-1,1)\n",
    "Yverify_ground_truth=np.argmax(Y_test,axis=1).reshape(-1,1)\n",
    "op=classification_report(Yverify_ground_truth,Yverify)\n",
    "print(op)"
   ]
  },
  {
   "attachments": {},
   "cell_type": "markdown",
   "metadata": {},
   "source": [
    "<h3> Inference testing </h3>\n",
    "\n"
   ]
  },
  {
   "cell_type": "code",
   "execution_count": 11,
   "metadata": {},
   "outputs": [
    {
     "name": "stdout",
     "output_type": "stream",
     "text": [
      "WARNING:tensorflow:6 out of the last 6 calls to <function Model.make_predict_function.<locals>.predict_function at 0x000002BAFDD38F70> triggered tf.function retracing. Tracing is expensive and the excessive number of tracings could be due to (1) creating @tf.function repeatedly in a loop, (2) passing tensors with different shapes, (3) passing Python objects instead of tensors. For (1), please define your @tf.function outside of the loop. For (2), @tf.function has reduce_retracing=True option that can avoid unnecessary retracing. For (3), please refer to https://www.tensorflow.org/guide/function#controlling_retracing and https://www.tensorflow.org/api_docs/python/tf/function for  more details.\n",
      "1/1 [==============================] - 1s 759ms/step\n",
      "0.9999783\n",
      "Apple_Inc (invoices)\n"
     ]
    }
   ],
   "source": [
    "#D:\\Fuse_Work\\Glean_Experiments\\Dataset\\Medline\\01GH7C1RYM86F7JDQFJ1944V84.pdf\n",
    "loaded_model=tf.keras.models.load_model('Efficient_net_custom.h5')\n",
    "map=dump_load_map({},1)\n",
    "path_image=input('Enter PDF Path: ')\n",
    "test_img=inference_image_get(path_image)\n",
    "preds=loaded_model.predict(test_img.reshape(1,test_img.shape[0],test_img.shape[1],test_img.shape[2]))\n",
    "op=np.argmax(preds)\n",
    "print(list(preds[0])[op])\n",
    "if list(preds[0])[op]<=0.85:\n",
    "    print('This file belongs to none of the vendors ')\n",
    "else: \n",
    "    print(list(filter(lambda x: map[x] == op, map))[0])"
   ]
  },
  {
   "cell_type": "code",
   "execution_count": null,
   "metadata": {},
   "outputs": [],
   "source": []
  }
 ],
 "metadata": {
  "kernelspec": {
   "display_name": "MISC",
   "language": "python",
   "name": "python3"
  },
  "language_info": {
   "codemirror_mode": {
    "name": "ipython",
    "version": 3
   },
   "file_extension": ".py",
   "mimetype": "text/x-python",
   "name": "python",
   "nbconvert_exporter": "python",
   "pygments_lexer": "ipython3",
   "version": "3.10.9"
  },
  "orig_nbformat": 4
 },
 "nbformat": 4,
 "nbformat_minor": 2
}
